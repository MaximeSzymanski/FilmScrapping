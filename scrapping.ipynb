{
 "cells": [
  {
   "cell_type": "markdown",
   "source": [
    "# Scraping Rotten Tomatoes and analyse the dataset\n",
    "\n",
    "This code will **scrape** the website **Rotten Tomatoes** to get the information of the movies available on the website. The information will be stored in a csv file.\n",
    "Then, the csv file will be used to **analyse the dataset** to find some interesting information.\n",
    "\n",
    "## Getting the data\n",
    "\n",
    "\n",
    "### Loading the films on the website Rotten Tomatoes\n",
    "\n",
    "In order to get the data, we will use the library **Selenium**. Selenium is a library that allows us to automate the browser. We will use it to click on the button \"Load more\" to get all the movies available on the website."
   ],
   "metadata": {
    "collapsed": false,
    "pycharm": {
     "name": "#%% md\n"
    }
   },
   "outputs": []
  },
  {
   "cell_type": "code",
   "execution_count": null,
   "outputs": [],
   "source": [
    "from selenium.common import NoSuchElementException\n",
    "from selenium import webdriver\n",
    "import time\n",
    "import pandas as pd\n",
    "import requests\n",
    "from bs4 import BeautifulSoup\n",
    "from selenium.webdriver.common.by import By\n",
    "# The browser will be Chrome\n",
    "driver = webdriver.Chrome()\n",
    "# Open the website Rotten Tomatoes\n",
    "driver.get(\"https://www.rottentomatoes.com/browse/movies_at_home/sort:popular?page=5\")\n",
    "try:\n",
    "    # Click on the button \"Reject all\" to refuse the cookies, if the button exists. Its a button that appears when you first visit the website.\n",
    "    reject_all_button =driver.find_element(By.ID,\"onetrust-reject-all-handler\")\n",
    "    reject_all_button.click()\n",
    "\n",
    "except NoSuchElementException:\n",
    "    print('The button does not exist')\n",
    "    pass\n",
    "# The number of times we will click on the button \"Load more\", each time we click on the button, 30 movies will be added to the list of movies.\n",
    "number_of_reloading = 20\n",
    "# Click on the button \"Load more\" the number of times defined by the variable number_of_reloading\n",
    "for i in range(number_of_reloading):\n",
    "    try:\n",
    "        print('Step', i)\n",
    "        # Find the button \"Load more\"\n",
    "        load_more_button = driver.find_element(By.XPATH, \"//button[@data-discoverygridsmanager='btnLoadMore']\")\n",
    "        # Click on the button \"Load more\"\n",
    "        load_more_button.click()\n",
    "    except NoSuchElementException:\n",
    "        print('The button does not exist')\n",
    "        pass\n",
    "    # Pause of 0.5 second between each click on the button \"Load more\" to let the website load the new movies\n",
    "    time.sleep(0.5) # Pause de 1 seconde\n",
    "# Get the html code of the page in the variable html\n",
    "html = driver.page_source\n",
    "# Close the browser\n",
    "driver.quit()"
   ],
   "metadata": {
    "collapsed": false,
    "pycharm": {
     "name": "#%%\n",
     "is_executing": true
    }
   }
  },
  {
   "cell_type": "markdown",
   "source": [
    "### Getting the information of each film on the website Rotten Tomatoes\n",
    "\n",
    "We will use the library **BeautifulSoup** to get the information of each film. We will get the following information:\n",
    "\n",
    "- The title\n",
    "- The tomato\n",
    "- The audience\n",
    "- The rating\n",
    "- The genre\n",
    "- The original language\n",
    "- The director\n",
    "- The producer\n",
    "- The writer\n",
    "- The release date (theaters)\n",
    "- The release date (streaming)\n",
    "- The box office (gross USA)\n",
    "- The runtime\n",
    "- The distributor\n",
    "- The sound mix"
   ],
   "metadata": {
    "collapsed": false,
    "pycharm": {
     "name": "#%% md\n"
    }
   }
  },
  {
   "cell_type": "code",
   "execution_count": 2,
   "outputs": [],
   "source": [
    "# Function to get the information of each film\n",
    "# Input: the html code of the page\n",
    "# Output: a dictionary with the information of the film\n",
    "def get_info(soup):\n",
    "    # Find the list of information\n",
    "    list = soup.find(\"ul\", {\"id\" : \"info\"})\n",
    "    # Create a dictionary to store the information\n",
    "    film_details = {}\n",
    "    # Get the title of the film\n",
    "    title = soup.find(\"h1\", {\"data-qa\" : \"score-panel-movie-title\"}).text\n",
    "\n",
    "    film_details[\"title\"] = title\n",
    "\n",
    "\n",
    "    # Get the information of each category\n",
    "\n",
    "    for child in list.children:\n",
    "        # If the category is not empty\n",
    "        if child.find(\"b\") != -1 :\n",
    "            # Get the category name\n",
    "            category = child.find(\"b\").text\n",
    "            # Remove the \":\" at the end of the category\n",
    "            category = category.replace(':','')\n",
    "            # Get the value of the category\n",
    "            value = child.find(\"span\").text\n",
    "            # Remove the \"\\n\" and the \" \" in the value\n",
    "            value = value.strip().replace('\\n', '').replace(\" \",'').replace(\",\", ' ')\n",
    "            # Store the category and the value in the dictionary\n",
    "            film_details[category] = value\n",
    "    return film_details"
   ],
   "metadata": {
    "collapsed": false,
    "pycharm": {
     "name": "#%%\n"
    }
   }
  },
  {
   "cell_type": "code",
   "execution_count": 3,
   "outputs": [],
   "source": [
    "# Create a BeautifulSoup object from the html code of the page. This object will allow us to get the information of each film.\n",
    "soup = BeautifulSoup(html)"
   ],
   "metadata": {
    "collapsed": false,
    "pycharm": {
     "name": "#%%\n"
    }
   }
  },
  {
   "cell_type": "code",
   "execution_count": 4,
   "outputs": [],
   "source": [
    "# Find all the divs that contain the information of each film. Each div contains the information of one film.\n",
    "film_divs= soup.findAll(class_='js-tile-link')"
   ],
   "metadata": {
    "collapsed": false,
    "pycharm": {
     "name": "#%%\n"
    }
   }
  },
  {
   "cell_type": "code",
   "execution_count": 5,
   "outputs": [],
   "source": [
    "# Create a list to store the link of each film details.\n",
    "films_link = []\n",
    "for film in film_divs:\n",
    "    film_link = {}\n",
    "    # Get the link of the film details\n",
    "    link_div = (film.find('a', {\"data-track\" : \"scores\"}))\n",
    "    if link_div is not None:\n",
    "        # Get the tomato and the audience score\n",
    "        audiencescore = link_div.find(\"score-pairs\")[\"audiencescore\"]\n",
    "        tomatoescore = link_div.find(\"score-pairs\")[\"criticsscore\"]\n",
    "        # Store the link of the film details and the tomato and the audience score in the dictionary.\n",
    "        film_link[\"link\"] = link_div['href']\n",
    "        film_link[\"audiencescore\"] = audiencescore\n",
    "        film_link[\"tomatoescore\"]  = tomatoescore\n",
    "        films_link.append(film_link)"
   ],
   "metadata": {
    "collapsed": false,
    "pycharm": {
     "name": "#%%\n"
    }
   }
  },
  {
   "cell_type": "code",
   "execution_count": 6,
   "outputs": [],
   "source": [
    "# Base url of the website\n",
    "base_url = 'https://www.rottentomatoes.com'\n",
    "film_details_list = []\n",
    "number_film = 0\n",
    "for film_name in films_link:\n",
    "    print(number_film, \"/\", len(films_link))\n",
    "    # Get the url of the film details\n",
    "    url = base_url + film_name[\"link\"]\n",
    "    print(url)\n",
    "    # Get the html code of the page\n",
    "    response = requests.get(url)\n",
    "    if response.ok:\n",
    "        # Create a BeautifulSoup object from the html code of the page. This object will allow us to get the information of each film.\n",
    "        soup = BeautifulSoup(response.content)\n",
    "        # Get the information of the film. The function get_info is defined above. It returns a dictionary with the information of the film.\n",
    "        infos = get_info(soup)\n",
    "        # Add the tomato and the audience score to the dictionary.\n",
    "        infos[\"audiencescore\"] = film_name[\"audiencescore\"]\n",
    "        infos[\"tomatoescore\"] = film_name[\"tomatoescore\"]\n",
    "        # Add the dictionary to the list.\n",
    "        film_details_list.append(infos)\n",
    "    number_film += 1\n"
   ],
   "metadata": {
    "collapsed": false,
    "pycharm": {
     "name": "#%%\n"
    }
   }
  },
  {
   "cell_type": "code",
   "execution_count": null,
   "outputs": [],
   "source": [
    "# Create a dataframe from the list of dictionaries\n",
    "df = pd.DataFrame(data=film_details_list)\n",
    "# Drop the columns \"View the collection\" and \"Aspect Ratio\"\n",
    "df = df.drop([\"View the collection\", \"Aspect Ratio\"], axis=1)"
   ],
   "metadata": {
    "collapsed": false,
    "pycharm": {
     "name": "#%%\n",
     "is_executing": true
    }
   }
  },
  {
   "cell_type": "code",
   "execution_count": null,
   "outputs": [],
   "source": [
    "df.columns"
   ],
   "metadata": {
    "collapsed": false,
    "pycharm": {
     "name": "#%%\n",
     "is_executing": true
    }
   }
  },
  {
   "cell_type": "code",
   "execution_count": null,
   "outputs": [],
   "source": [
    "# Reorder the columns of the dataframe.\n",
    "df = df[['title', 'tomatoescore','audiencescore','Rating', 'Genre', 'Original Language', 'Director', 'Producer',\n",
    "       'Writer', 'Release Date (Theaters)', 'Release Date (Streaming)',\n",
    "       'Box Office (Gross USA)', 'Runtime', 'Distributor', 'Sound Mix']]"
   ],
   "metadata": {
    "collapsed": false,
    "pycharm": {
     "name": "#%%\n",
     "is_executing": true
    }
   }
  },
  {
   "cell_type": "code",
   "execution_count": 11,
   "outputs": [],
   "source": [
    "# Remove the NaN values, by replacing them with an empty string.\n",
    "df = df.fillna('')"
   ],
   "metadata": {
    "collapsed": false,
    "pycharm": {
     "name": "#%%\n"
    }
   }
  },
  {
   "cell_type": "code",
   "execution_count": null,
   "outputs": [],
   "source": [
    "# Transform the string of the columns Genre, Director, Producer and Writer into a list of strings. For example, the string \"Action, Adventure, Comedy\" will be transformed into the list [\"Action\", \"Adventure\", \"Comedy\"]\n",
    "df['Genre'] = df['Genre'].apply(lambda x: x.split())\n",
    "df['Director'] = df['Director'].apply(lambda x: x.split())\n",
    "df['Producer'] = df['Producer'].apply(lambda x: x.split())\n",
    "df['Writer'] = df['Writer'].apply(lambda x: x.split())\n"
   ],
   "metadata": {
    "collapsed": false,
    "pycharm": {
     "name": "#%%\n",
     "is_executing": true
    }
   }
  },
  {
   "cell_type": "code",
   "execution_count": 18,
   "outputs": [
    {
     "data": {
      "text/plain": "     Unnamed: 0                                             title  \\\n0             0                 Everything Everywhere All at Once   \n1             1                                      Cocaine Bear   \n2             2                                         The Whale   \n3             3                                  Boston Strangler   \n4             4                           Dragged Across Concrete   \n..          ...                                               ...   \n470         470  Pirates of the Caribbean: Dead Men Tell No Tales   \n471         471                                             Carol   \n472         472                                  The Tomorrow War   \n473         473                                 It Comes at Night   \n474         474                                          The Hunt   \n\n     tomatoescore  audiencescore  \\\n0            94.0           86.0   \n1            68.0           71.0   \n2            64.0           91.0   \n3            66.0           76.0   \n4            76.0           69.0   \n..            ...            ...   \n470          30.0           60.0   \n471          94.0           74.0   \n472          52.0           76.0   \n473          88.0           44.0   \n474          57.0           66.0   \n\n                                                Rating  \\\n0              R(SexualMaterial|Language|SomeViolence)   \n1    R(LanguageThroughout|DrugContent|BloodyViolenc...   \n2                R(SexualContent|Language|SomeDrugUse)   \n3                       R(Language|SomeViolentContent)   \n4    R(Language|GrislyImages|SomeSexuality/Nudity|S...   \n..                                                 ...   \n470     PG-13(SomeSuggestiveContent|AdventureViolence)   \n471           R(Nudity|BriefLanguage|SceneofSexuality)   \n472  PG-13(Language|IntenseSci-FiViolence|Action|So...   \n473              R(Language|DisturbingImages|Violence)   \n474         R(StrongBloodyViolence|LanguageThroughout)   \n\n                                                 Genre Original Language  \\\n0    [\"['Comedy',\", \"'Adventure',\", \"'Sci-fi',\", \"'...           English   \n1                [\"['Mystery&thriller',\", \"'Comedy']\"]           English   \n2                                        [\"['Drama']\"]           English   \n3                            [\"['Crime',\", \"'Drama']\"]           English   \n4                            [\"['Crime',\", \"'Drama']\"]           English   \n..                                                 ...               ...   \n470       [\"['Adventure',\", \"'Action',\", \"'Fantasy']\"]           English   \n471           [\"['Romance',\", \"'Drama',\", \"'Lgbtq+']\"]           English   \n472        [\"['Sci-fi',\", \"'Action',\", \"'Adventure']\"]           English   \n473              [\"['Horror',\", \"'Mystery&thriller']\"]           English   \n474  [\"['Mystery&thriller',\", \"'Comedy',\", \"'Action...           English   \n\n                                       Director  \\\n0         [\"['DanKwan',\", \"'DanielScheinert']\"]   \n1                        [\"['ElizabethBanks']\"]   \n2                       [\"['DarrenAronofsky']\"]   \n3                            [\"['MattRuskin']\"]   \n4                         [\"['S.CraigZahler']\"]   \n..                                          ...   \n470  [\"['JoachimRønning',\", \"'EspenSandberg']\"]   \n471                          [\"['ToddHaynes']\"]   \n472                          [\"['ChrisMcKay']\"]   \n473                    [\"['TreyEdwardShults']\"]   \n474                          [\"['CraigZobel']\"]   \n\n                                              Producer  \\\n0    [\"['JoeRusso',\", \"'AnthonyRusso',\", \"'MikeLaro...   \n1    [\"['PhilLord',\", \"'ChrisMiller',\", \"'Elizabeth...   \n2                                               ['[]']   \n3    [\"['TomAckerley',\", \"'JoseyMcNamara',\", \"'Mich...   \n4    [\"['KeithKjarval',\", \"'DallasSonnier',\", \"'Tyl...   \n..                                                 ...   \n470                           [\"['JerryBruckheimer']\"]   \n471  [\"['ElizabethKarlsen',\", \"'StephenWoolley',\", ...   \n472  [\"['DavidEllison',\", \"'DanaGoldberg',\", \"'DonG...   \n473                [\"['DavidKaplan',\", \"'AndreaRoa']\"]   \n474              [\"['JasonBlum',\", \"'DamonLindelof']\"]   \n\n                                    Writer Release Date (Theaters)  \\\n0    [\"['DanKwan',\", \"'DanielScheinert']\"]          Apr8 2022 wide   \n1                      [\"['JimmyWarden']\"]         Feb24 2023 wide   \n2                   [\"['SamuelD.Hunter']\"]         Dec21 2022 wide   \n3                       [\"['MattRuskin']\"]                     NaN   \n4                    [\"['S.CraigZahler']\"]      Mar22 2019 limited   \n..                                     ...                     ...   \n470                  [\"['JeffNathanson']\"]         May26 2017 wide   \n471                    [\"['PhyllisNagy']\"]          Jan8 2016 wide   \n472                       [\"['ZachDean']\"]                     NaN   \n473               [\"['TreyEdwardShults']\"]          Jun9 2017 wide   \n474   [\"['NickCuse',\", \"'DamonLindelof']\"]     Mar13 2020 original   \n\n    Release Date (Streaming)  Box Office (Gross USA) Runtime  \\\n0                  Jun7 2022              75000000.0   2h12m   \n1                 Mar21 2023              58000000.0   1h35m   \n2                 Feb21 2023              17000000.0   1h57m   \n3                 Mar17 2023                     NaN   1h52m   \n4                 Mar22 2019                     NaN   2h39m   \n..                       ...                     ...     ...   \n470                Oct3 2017             172000000.0    2h3m   \n471               Mar15 2016              12000000.0   1h58m   \n472                Jul2 2021                     NaN   2h18m   \n473               Sep12 2017              14000000.0   1h37m   \n474               Mar20 2020               5000000.0   1h30m   \n\n                            Distributor                        Sound Mix  \n0                                   A24                     DolbyDigital  \n1                     UniversalPictures                              NaN  \n2                                   A24                     DolbyDigital  \n3                                  Hulu                     DolbyDigital  \n4    SummitEntertainment LionsgateFilms                     DolbyDigital  \n..                                  ...                              ...  \n470                          WaltDisney  DolbyAtmos DolbyDigital Datasat  \n471                        WeinsteinCo.                              NaN  \n472                                 NaN                              NaN  \n473                                 A24                              NaN  \n474                   UniversalPictures                     DolbyDigital  \n\n[475 rows x 16 columns]",
      "text/html": "<div>\n<style scoped>\n    .dataframe tbody tr th:only-of-type {\n        vertical-align: middle;\n    }\n\n    .dataframe tbody tr th {\n        vertical-align: top;\n    }\n\n    .dataframe thead th {\n        text-align: right;\n    }\n</style>\n<table border=\"1\" class=\"dataframe\">\n  <thead>\n    <tr style=\"text-align: right;\">\n      <th></th>\n      <th>Unnamed: 0</th>\n      <th>title</th>\n      <th>tomatoescore</th>\n      <th>audiencescore</th>\n      <th>Rating</th>\n      <th>Genre</th>\n      <th>Original Language</th>\n      <th>Director</th>\n      <th>Producer</th>\n      <th>Writer</th>\n      <th>Release Date (Theaters)</th>\n      <th>Release Date (Streaming)</th>\n      <th>Box Office (Gross USA)</th>\n      <th>Runtime</th>\n      <th>Distributor</th>\n      <th>Sound Mix</th>\n    </tr>\n  </thead>\n  <tbody>\n    <tr>\n      <th>0</th>\n      <td>0</td>\n      <td>Everything Everywhere All at Once</td>\n      <td>94.0</td>\n      <td>86.0</td>\n      <td>R(SexualMaterial|Language|SomeViolence)</td>\n      <td>[\"['Comedy',\", \"'Adventure',\", \"'Sci-fi',\", \"'...</td>\n      <td>English</td>\n      <td>[\"['DanKwan',\", \"'DanielScheinert']\"]</td>\n      <td>[\"['JoeRusso',\", \"'AnthonyRusso',\", \"'MikeLaro...</td>\n      <td>[\"['DanKwan',\", \"'DanielScheinert']\"]</td>\n      <td>Apr8 2022 wide</td>\n      <td>Jun7 2022</td>\n      <td>75000000.0</td>\n      <td>2h12m</td>\n      <td>A24</td>\n      <td>DolbyDigital</td>\n    </tr>\n    <tr>\n      <th>1</th>\n      <td>1</td>\n      <td>Cocaine Bear</td>\n      <td>68.0</td>\n      <td>71.0</td>\n      <td>R(LanguageThroughout|DrugContent|BloodyViolenc...</td>\n      <td>[\"['Mystery&amp;thriller',\", \"'Comedy']\"]</td>\n      <td>English</td>\n      <td>[\"['ElizabethBanks']\"]</td>\n      <td>[\"['PhilLord',\", \"'ChrisMiller',\", \"'Elizabeth...</td>\n      <td>[\"['JimmyWarden']\"]</td>\n      <td>Feb24 2023 wide</td>\n      <td>Mar21 2023</td>\n      <td>58000000.0</td>\n      <td>1h35m</td>\n      <td>UniversalPictures</td>\n      <td>NaN</td>\n    </tr>\n    <tr>\n      <th>2</th>\n      <td>2</td>\n      <td>The Whale</td>\n      <td>64.0</td>\n      <td>91.0</td>\n      <td>R(SexualContent|Language|SomeDrugUse)</td>\n      <td>[\"['Drama']\"]</td>\n      <td>English</td>\n      <td>[\"['DarrenAronofsky']\"]</td>\n      <td>['[]']</td>\n      <td>[\"['SamuelD.Hunter']\"]</td>\n      <td>Dec21 2022 wide</td>\n      <td>Feb21 2023</td>\n      <td>17000000.0</td>\n      <td>1h57m</td>\n      <td>A24</td>\n      <td>DolbyDigital</td>\n    </tr>\n    <tr>\n      <th>3</th>\n      <td>3</td>\n      <td>Boston Strangler</td>\n      <td>66.0</td>\n      <td>76.0</td>\n      <td>R(Language|SomeViolentContent)</td>\n      <td>[\"['Crime',\", \"'Drama']\"]</td>\n      <td>English</td>\n      <td>[\"['MattRuskin']\"]</td>\n      <td>[\"['TomAckerley',\", \"'JoseyMcNamara',\", \"'Mich...</td>\n      <td>[\"['MattRuskin']\"]</td>\n      <td>NaN</td>\n      <td>Mar17 2023</td>\n      <td>NaN</td>\n      <td>1h52m</td>\n      <td>Hulu</td>\n      <td>DolbyDigital</td>\n    </tr>\n    <tr>\n      <th>4</th>\n      <td>4</td>\n      <td>Dragged Across Concrete</td>\n      <td>76.0</td>\n      <td>69.0</td>\n      <td>R(Language|GrislyImages|SomeSexuality/Nudity|S...</td>\n      <td>[\"['Crime',\", \"'Drama']\"]</td>\n      <td>English</td>\n      <td>[\"['S.CraigZahler']\"]</td>\n      <td>[\"['KeithKjarval',\", \"'DallasSonnier',\", \"'Tyl...</td>\n      <td>[\"['S.CraigZahler']\"]</td>\n      <td>Mar22 2019 limited</td>\n      <td>Mar22 2019</td>\n      <td>NaN</td>\n      <td>2h39m</td>\n      <td>SummitEntertainment LionsgateFilms</td>\n      <td>DolbyDigital</td>\n    </tr>\n    <tr>\n      <th>...</th>\n      <td>...</td>\n      <td>...</td>\n      <td>...</td>\n      <td>...</td>\n      <td>...</td>\n      <td>...</td>\n      <td>...</td>\n      <td>...</td>\n      <td>...</td>\n      <td>...</td>\n      <td>...</td>\n      <td>...</td>\n      <td>...</td>\n      <td>...</td>\n      <td>...</td>\n      <td>...</td>\n    </tr>\n    <tr>\n      <th>470</th>\n      <td>470</td>\n      <td>Pirates of the Caribbean: Dead Men Tell No Tales</td>\n      <td>30.0</td>\n      <td>60.0</td>\n      <td>PG-13(SomeSuggestiveContent|AdventureViolence)</td>\n      <td>[\"['Adventure',\", \"'Action',\", \"'Fantasy']\"]</td>\n      <td>English</td>\n      <td>[\"['JoachimRønning',\", \"'EspenSandberg']\"]</td>\n      <td>[\"['JerryBruckheimer']\"]</td>\n      <td>[\"['JeffNathanson']\"]</td>\n      <td>May26 2017 wide</td>\n      <td>Oct3 2017</td>\n      <td>172000000.0</td>\n      <td>2h3m</td>\n      <td>WaltDisney</td>\n      <td>DolbyAtmos DolbyDigital Datasat</td>\n    </tr>\n    <tr>\n      <th>471</th>\n      <td>471</td>\n      <td>Carol</td>\n      <td>94.0</td>\n      <td>74.0</td>\n      <td>R(Nudity|BriefLanguage|SceneofSexuality)</td>\n      <td>[\"['Romance',\", \"'Drama',\", \"'Lgbtq+']\"]</td>\n      <td>English</td>\n      <td>[\"['ToddHaynes']\"]</td>\n      <td>[\"['ElizabethKarlsen',\", \"'StephenWoolley',\", ...</td>\n      <td>[\"['PhyllisNagy']\"]</td>\n      <td>Jan8 2016 wide</td>\n      <td>Mar15 2016</td>\n      <td>12000000.0</td>\n      <td>1h58m</td>\n      <td>WeinsteinCo.</td>\n      <td>NaN</td>\n    </tr>\n    <tr>\n      <th>472</th>\n      <td>472</td>\n      <td>The Tomorrow War</td>\n      <td>52.0</td>\n      <td>76.0</td>\n      <td>PG-13(Language|IntenseSci-FiViolence|Action|So...</td>\n      <td>[\"['Sci-fi',\", \"'Action',\", \"'Adventure']\"]</td>\n      <td>English</td>\n      <td>[\"['ChrisMcKay']\"]</td>\n      <td>[\"['DavidEllison',\", \"'DanaGoldberg',\", \"'DonG...</td>\n      <td>[\"['ZachDean']\"]</td>\n      <td>NaN</td>\n      <td>Jul2 2021</td>\n      <td>NaN</td>\n      <td>2h18m</td>\n      <td>NaN</td>\n      <td>NaN</td>\n    </tr>\n    <tr>\n      <th>473</th>\n      <td>473</td>\n      <td>It Comes at Night</td>\n      <td>88.0</td>\n      <td>44.0</td>\n      <td>R(Language|DisturbingImages|Violence)</td>\n      <td>[\"['Horror',\", \"'Mystery&amp;thriller']\"]</td>\n      <td>English</td>\n      <td>[\"['TreyEdwardShults']\"]</td>\n      <td>[\"['DavidKaplan',\", \"'AndreaRoa']\"]</td>\n      <td>[\"['TreyEdwardShults']\"]</td>\n      <td>Jun9 2017 wide</td>\n      <td>Sep12 2017</td>\n      <td>14000000.0</td>\n      <td>1h37m</td>\n      <td>A24</td>\n      <td>NaN</td>\n    </tr>\n    <tr>\n      <th>474</th>\n      <td>474</td>\n      <td>The Hunt</td>\n      <td>57.0</td>\n      <td>66.0</td>\n      <td>R(StrongBloodyViolence|LanguageThroughout)</td>\n      <td>[\"['Mystery&amp;thriller',\", \"'Comedy',\", \"'Action...</td>\n      <td>English</td>\n      <td>[\"['CraigZobel']\"]</td>\n      <td>[\"['JasonBlum',\", \"'DamonLindelof']\"]</td>\n      <td>[\"['NickCuse',\", \"'DamonLindelof']\"]</td>\n      <td>Mar13 2020 original</td>\n      <td>Mar20 2020</td>\n      <td>5000000.0</td>\n      <td>1h30m</td>\n      <td>UniversalPictures</td>\n      <td>DolbyDigital</td>\n    </tr>\n  </tbody>\n</table>\n<p>475 rows × 16 columns</p>\n</div>"
     },
     "execution_count": 18,
     "metadata": {},
     "output_type": "execute_result"
    }
   ],
   "source": [
    "df"
   ],
   "metadata": {
    "collapsed": false,
    "pycharm": {
     "name": "#%%\n"
    }
   }
  },
  {
   "cell_type": "code",
   "execution_count": 14,
   "outputs": [],
   "source": [
    "# Save the dataframe in a csv file\n",
    "#df.to_csv(\"FilmCSV.csv\")"
   ],
   "metadata": {
    "collapsed": false,
    "pycharm": {
     "name": "#%%\n"
    }
   }
  },
  {
   "cell_type": "markdown",
   "source": [
    "## Data cleaning\n",
    "\n",
    "Once we have the data, we need to clean it."
   ],
   "metadata": {
    "collapsed": false,
    "pycharm": {
     "name": "#%% md\n"
    }
   }
  },
  {
   "cell_type": "code",
   "execution_count": 19,
   "outputs": [],
   "source": [
    "import pandas as pd\n",
    "# Read the csv file that contains the data. The file is in the same folder as the notebook.\n",
    "df = pd.read_csv(\"FilmCSV.csv\")"
   ],
   "metadata": {
    "collapsed": false,
    "pycharm": {
     "name": "#%%\n"
    }
   }
  },
  {
   "cell_type": "code",
   "execution_count": 20,
   "outputs": [],
   "source": [
    "# Remove the column Unnamed: 0. It is not useful.\n",
    "df.drop(\"Unnamed: 0\", axis=1, inplace=True)"
   ],
   "metadata": {
    "collapsed": false,
    "pycharm": {
     "name": "#%%\n"
    }
   }
  },
  {
   "cell_type": "code",
   "execution_count": 21,
   "outputs": [
    {
     "data": {
      "text/plain": "                                                title  tomatoescore  \\\n0                   Everything Everywhere All at Once          94.0   \n1                                        Cocaine Bear          68.0   \n2                                           The Whale          64.0   \n3                                    Boston Strangler          66.0   \n4                             Dragged Across Concrete          76.0   \n..                                                ...           ...   \n470  Pirates of the Caribbean: Dead Men Tell No Tales          30.0   \n471                                             Carol          94.0   \n472                                  The Tomorrow War          52.0   \n473                                 It Comes at Night          88.0   \n474                                          The Hunt          57.0   \n\n     audiencescore                                             Rating  \\\n0             86.0            R(SexualMaterial|Language|SomeViolence)   \n1             71.0  R(LanguageThroughout|DrugContent|BloodyViolenc...   \n2             91.0              R(SexualContent|Language|SomeDrugUse)   \n3             76.0                     R(Language|SomeViolentContent)   \n4             69.0  R(Language|GrislyImages|SomeSexuality/Nudity|S...   \n..             ...                                                ...   \n470           60.0     PG-13(SomeSuggestiveContent|AdventureViolence)   \n471           74.0           R(Nudity|BriefLanguage|SceneofSexuality)   \n472           76.0  PG-13(Language|IntenseSci-FiViolence|Action|So...   \n473           44.0              R(Language|DisturbingImages|Violence)   \n474           66.0         R(StrongBloodyViolence|LanguageThroughout)   \n\n                                                 Genre Original Language  \\\n0    [\"['Comedy',\", \"'Adventure',\", \"'Sci-fi',\", \"'...           English   \n1                [\"['Mystery&thriller',\", \"'Comedy']\"]           English   \n2                                        [\"['Drama']\"]           English   \n3                            [\"['Crime',\", \"'Drama']\"]           English   \n4                            [\"['Crime',\", \"'Drama']\"]           English   \n..                                                 ...               ...   \n470       [\"['Adventure',\", \"'Action',\", \"'Fantasy']\"]           English   \n471           [\"['Romance',\", \"'Drama',\", \"'Lgbtq+']\"]           English   \n472        [\"['Sci-fi',\", \"'Action',\", \"'Adventure']\"]           English   \n473              [\"['Horror',\", \"'Mystery&thriller']\"]           English   \n474  [\"['Mystery&thriller',\", \"'Comedy',\", \"'Action...           English   \n\n                                       Director  \\\n0         [\"['DanKwan',\", \"'DanielScheinert']\"]   \n1                        [\"['ElizabethBanks']\"]   \n2                       [\"['DarrenAronofsky']\"]   \n3                            [\"['MattRuskin']\"]   \n4                         [\"['S.CraigZahler']\"]   \n..                                          ...   \n470  [\"['JoachimRønning',\", \"'EspenSandberg']\"]   \n471                          [\"['ToddHaynes']\"]   \n472                          [\"['ChrisMcKay']\"]   \n473                    [\"['TreyEdwardShults']\"]   \n474                          [\"['CraigZobel']\"]   \n\n                                              Producer  \\\n0    [\"['JoeRusso',\", \"'AnthonyRusso',\", \"'MikeLaro...   \n1    [\"['PhilLord',\", \"'ChrisMiller',\", \"'Elizabeth...   \n2                                               ['[]']   \n3    [\"['TomAckerley',\", \"'JoseyMcNamara',\", \"'Mich...   \n4    [\"['KeithKjarval',\", \"'DallasSonnier',\", \"'Tyl...   \n..                                                 ...   \n470                           [\"['JerryBruckheimer']\"]   \n471  [\"['ElizabethKarlsen',\", \"'StephenWoolley',\", ...   \n472  [\"['DavidEllison',\", \"'DanaGoldberg',\", \"'DonG...   \n473                [\"['DavidKaplan',\", \"'AndreaRoa']\"]   \n474              [\"['JasonBlum',\", \"'DamonLindelof']\"]   \n\n                                    Writer Release Date (Theaters)  \\\n0    [\"['DanKwan',\", \"'DanielScheinert']\"]          Apr8 2022 wide   \n1                      [\"['JimmyWarden']\"]         Feb24 2023 wide   \n2                   [\"['SamuelD.Hunter']\"]         Dec21 2022 wide   \n3                       [\"['MattRuskin']\"]                     NaN   \n4                    [\"['S.CraigZahler']\"]      Mar22 2019 limited   \n..                                     ...                     ...   \n470                  [\"['JeffNathanson']\"]         May26 2017 wide   \n471                    [\"['PhyllisNagy']\"]          Jan8 2016 wide   \n472                       [\"['ZachDean']\"]                     NaN   \n473               [\"['TreyEdwardShults']\"]          Jun9 2017 wide   \n474   [\"['NickCuse',\", \"'DamonLindelof']\"]     Mar13 2020 original   \n\n    Release Date (Streaming)  Box Office (Gross USA) Runtime  \\\n0                  Jun7 2022              75000000.0   2h12m   \n1                 Mar21 2023              58000000.0   1h35m   \n2                 Feb21 2023              17000000.0   1h57m   \n3                 Mar17 2023                     NaN   1h52m   \n4                 Mar22 2019                     NaN   2h39m   \n..                       ...                     ...     ...   \n470                Oct3 2017             172000000.0    2h3m   \n471               Mar15 2016              12000000.0   1h58m   \n472                Jul2 2021                     NaN   2h18m   \n473               Sep12 2017              14000000.0   1h37m   \n474               Mar20 2020               5000000.0   1h30m   \n\n                            Distributor                        Sound Mix  \n0                                   A24                     DolbyDigital  \n1                     UniversalPictures                              NaN  \n2                                   A24                     DolbyDigital  \n3                                  Hulu                     DolbyDigital  \n4    SummitEntertainment LionsgateFilms                     DolbyDigital  \n..                                  ...                              ...  \n470                          WaltDisney  DolbyAtmos DolbyDigital Datasat  \n471                        WeinsteinCo.                              NaN  \n472                                 NaN                              NaN  \n473                                 A24                              NaN  \n474                   UniversalPictures                     DolbyDigital  \n\n[475 rows x 15 columns]",
      "text/html": "<div>\n<style scoped>\n    .dataframe tbody tr th:only-of-type {\n        vertical-align: middle;\n    }\n\n    .dataframe tbody tr th {\n        vertical-align: top;\n    }\n\n    .dataframe thead th {\n        text-align: right;\n    }\n</style>\n<table border=\"1\" class=\"dataframe\">\n  <thead>\n    <tr style=\"text-align: right;\">\n      <th></th>\n      <th>title</th>\n      <th>tomatoescore</th>\n      <th>audiencescore</th>\n      <th>Rating</th>\n      <th>Genre</th>\n      <th>Original Language</th>\n      <th>Director</th>\n      <th>Producer</th>\n      <th>Writer</th>\n      <th>Release Date (Theaters)</th>\n      <th>Release Date (Streaming)</th>\n      <th>Box Office (Gross USA)</th>\n      <th>Runtime</th>\n      <th>Distributor</th>\n      <th>Sound Mix</th>\n    </tr>\n  </thead>\n  <tbody>\n    <tr>\n      <th>0</th>\n      <td>Everything Everywhere All at Once</td>\n      <td>94.0</td>\n      <td>86.0</td>\n      <td>R(SexualMaterial|Language|SomeViolence)</td>\n      <td>[\"['Comedy',\", \"'Adventure',\", \"'Sci-fi',\", \"'...</td>\n      <td>English</td>\n      <td>[\"['DanKwan',\", \"'DanielScheinert']\"]</td>\n      <td>[\"['JoeRusso',\", \"'AnthonyRusso',\", \"'MikeLaro...</td>\n      <td>[\"['DanKwan',\", \"'DanielScheinert']\"]</td>\n      <td>Apr8 2022 wide</td>\n      <td>Jun7 2022</td>\n      <td>75000000.0</td>\n      <td>2h12m</td>\n      <td>A24</td>\n      <td>DolbyDigital</td>\n    </tr>\n    <tr>\n      <th>1</th>\n      <td>Cocaine Bear</td>\n      <td>68.0</td>\n      <td>71.0</td>\n      <td>R(LanguageThroughout|DrugContent|BloodyViolenc...</td>\n      <td>[\"['Mystery&amp;thriller',\", \"'Comedy']\"]</td>\n      <td>English</td>\n      <td>[\"['ElizabethBanks']\"]</td>\n      <td>[\"['PhilLord',\", \"'ChrisMiller',\", \"'Elizabeth...</td>\n      <td>[\"['JimmyWarden']\"]</td>\n      <td>Feb24 2023 wide</td>\n      <td>Mar21 2023</td>\n      <td>58000000.0</td>\n      <td>1h35m</td>\n      <td>UniversalPictures</td>\n      <td>NaN</td>\n    </tr>\n    <tr>\n      <th>2</th>\n      <td>The Whale</td>\n      <td>64.0</td>\n      <td>91.0</td>\n      <td>R(SexualContent|Language|SomeDrugUse)</td>\n      <td>[\"['Drama']\"]</td>\n      <td>English</td>\n      <td>[\"['DarrenAronofsky']\"]</td>\n      <td>['[]']</td>\n      <td>[\"['SamuelD.Hunter']\"]</td>\n      <td>Dec21 2022 wide</td>\n      <td>Feb21 2023</td>\n      <td>17000000.0</td>\n      <td>1h57m</td>\n      <td>A24</td>\n      <td>DolbyDigital</td>\n    </tr>\n    <tr>\n      <th>3</th>\n      <td>Boston Strangler</td>\n      <td>66.0</td>\n      <td>76.0</td>\n      <td>R(Language|SomeViolentContent)</td>\n      <td>[\"['Crime',\", \"'Drama']\"]</td>\n      <td>English</td>\n      <td>[\"['MattRuskin']\"]</td>\n      <td>[\"['TomAckerley',\", \"'JoseyMcNamara',\", \"'Mich...</td>\n      <td>[\"['MattRuskin']\"]</td>\n      <td>NaN</td>\n      <td>Mar17 2023</td>\n      <td>NaN</td>\n      <td>1h52m</td>\n      <td>Hulu</td>\n      <td>DolbyDigital</td>\n    </tr>\n    <tr>\n      <th>4</th>\n      <td>Dragged Across Concrete</td>\n      <td>76.0</td>\n      <td>69.0</td>\n      <td>R(Language|GrislyImages|SomeSexuality/Nudity|S...</td>\n      <td>[\"['Crime',\", \"'Drama']\"]</td>\n      <td>English</td>\n      <td>[\"['S.CraigZahler']\"]</td>\n      <td>[\"['KeithKjarval',\", \"'DallasSonnier',\", \"'Tyl...</td>\n      <td>[\"['S.CraigZahler']\"]</td>\n      <td>Mar22 2019 limited</td>\n      <td>Mar22 2019</td>\n      <td>NaN</td>\n      <td>2h39m</td>\n      <td>SummitEntertainment LionsgateFilms</td>\n      <td>DolbyDigital</td>\n    </tr>\n    <tr>\n      <th>...</th>\n      <td>...</td>\n      <td>...</td>\n      <td>...</td>\n      <td>...</td>\n      <td>...</td>\n      <td>...</td>\n      <td>...</td>\n      <td>...</td>\n      <td>...</td>\n      <td>...</td>\n      <td>...</td>\n      <td>...</td>\n      <td>...</td>\n      <td>...</td>\n      <td>...</td>\n    </tr>\n    <tr>\n      <th>470</th>\n      <td>Pirates of the Caribbean: Dead Men Tell No Tales</td>\n      <td>30.0</td>\n      <td>60.0</td>\n      <td>PG-13(SomeSuggestiveContent|AdventureViolence)</td>\n      <td>[\"['Adventure',\", \"'Action',\", \"'Fantasy']\"]</td>\n      <td>English</td>\n      <td>[\"['JoachimRønning',\", \"'EspenSandberg']\"]</td>\n      <td>[\"['JerryBruckheimer']\"]</td>\n      <td>[\"['JeffNathanson']\"]</td>\n      <td>May26 2017 wide</td>\n      <td>Oct3 2017</td>\n      <td>172000000.0</td>\n      <td>2h3m</td>\n      <td>WaltDisney</td>\n      <td>DolbyAtmos DolbyDigital Datasat</td>\n    </tr>\n    <tr>\n      <th>471</th>\n      <td>Carol</td>\n      <td>94.0</td>\n      <td>74.0</td>\n      <td>R(Nudity|BriefLanguage|SceneofSexuality)</td>\n      <td>[\"['Romance',\", \"'Drama',\", \"'Lgbtq+']\"]</td>\n      <td>English</td>\n      <td>[\"['ToddHaynes']\"]</td>\n      <td>[\"['ElizabethKarlsen',\", \"'StephenWoolley',\", ...</td>\n      <td>[\"['PhyllisNagy']\"]</td>\n      <td>Jan8 2016 wide</td>\n      <td>Mar15 2016</td>\n      <td>12000000.0</td>\n      <td>1h58m</td>\n      <td>WeinsteinCo.</td>\n      <td>NaN</td>\n    </tr>\n    <tr>\n      <th>472</th>\n      <td>The Tomorrow War</td>\n      <td>52.0</td>\n      <td>76.0</td>\n      <td>PG-13(Language|IntenseSci-FiViolence|Action|So...</td>\n      <td>[\"['Sci-fi',\", \"'Action',\", \"'Adventure']\"]</td>\n      <td>English</td>\n      <td>[\"['ChrisMcKay']\"]</td>\n      <td>[\"['DavidEllison',\", \"'DanaGoldberg',\", \"'DonG...</td>\n      <td>[\"['ZachDean']\"]</td>\n      <td>NaN</td>\n      <td>Jul2 2021</td>\n      <td>NaN</td>\n      <td>2h18m</td>\n      <td>NaN</td>\n      <td>NaN</td>\n    </tr>\n    <tr>\n      <th>473</th>\n      <td>It Comes at Night</td>\n      <td>88.0</td>\n      <td>44.0</td>\n      <td>R(Language|DisturbingImages|Violence)</td>\n      <td>[\"['Horror',\", \"'Mystery&amp;thriller']\"]</td>\n      <td>English</td>\n      <td>[\"['TreyEdwardShults']\"]</td>\n      <td>[\"['DavidKaplan',\", \"'AndreaRoa']\"]</td>\n      <td>[\"['TreyEdwardShults']\"]</td>\n      <td>Jun9 2017 wide</td>\n      <td>Sep12 2017</td>\n      <td>14000000.0</td>\n      <td>1h37m</td>\n      <td>A24</td>\n      <td>NaN</td>\n    </tr>\n    <tr>\n      <th>474</th>\n      <td>The Hunt</td>\n      <td>57.0</td>\n      <td>66.0</td>\n      <td>R(StrongBloodyViolence|LanguageThroughout)</td>\n      <td>[\"['Mystery&amp;thriller',\", \"'Comedy',\", \"'Action...</td>\n      <td>English</td>\n      <td>[\"['CraigZobel']\"]</td>\n      <td>[\"['JasonBlum',\", \"'DamonLindelof']\"]</td>\n      <td>[\"['NickCuse',\", \"'DamonLindelof']\"]</td>\n      <td>Mar13 2020 original</td>\n      <td>Mar20 2020</td>\n      <td>5000000.0</td>\n      <td>1h30m</td>\n      <td>UniversalPictures</td>\n      <td>DolbyDigital</td>\n    </tr>\n  </tbody>\n</table>\n<p>475 rows × 15 columns</p>\n</div>"
     },
     "execution_count": 21,
     "metadata": {},
     "output_type": "execute_result"
    }
   ],
   "source": [
    "df"
   ],
   "metadata": {
    "collapsed": false,
    "pycharm": {
     "name": "#%%\n"
    }
   }
  },
  {
   "cell_type": "code",
   "execution_count": 22,
   "outputs": [],
   "source": [
    "# This function converts the string of the column Box Office (Gross USA) into a float. For example, the string \"$1.2M\" will be converted into the float 1200000.0, and the string \"$1.2K\" will be converted into the float 1200.0.\n",
    "\n",
    "def convert_value(value):\n",
    "    #check if the value is not nan\n",
    "    if type(value) == float:\n",
    "        return value\n",
    "    print(value)\n",
    "    if value[-1] == 'K':\n",
    "        return float(value[1:-1]) * 1000\n",
    "    elif value[-1] == 'M':\n",
    "        return float(value[1:-1]) * 1000000\n",
    "    else:\n",
    "        return float(value[1:])\n",
    "\n",
    "# apply the function to the column Box Office (Gross USA)\n",
    "df['Box Office (Gross USA)'] = df['Box Office (Gross USA)'].apply(convert_value)"
   ],
   "metadata": {
    "collapsed": false,
    "pycharm": {
     "name": "#%%\n"
    }
   }
  },
  {
   "cell_type": "code",
   "execution_count": 23,
   "outputs": [],
   "source": [
    "# Most expensive movies\n",
    "df_expensive = df.sort_values(by=\"Box Office (Gross USA)\", ascending=False)\n",
    "#Remove the rows Box Office (Gross USA) with the value nan\n",
    "df_expensive = df_expensive[df_expensive['Box Office (Gross USA)'].notna()]"
   ],
   "metadata": {
    "collapsed": false,
    "pycharm": {
     "name": "#%%\n"
    }
   }
  },
  {
   "cell_type": "code",
   "execution_count": 27,
   "outputs": [
    {
     "data": {
      "text/plain": "                                title  tomatoescore  audiencescore  \\\n71                  Avengers: Endgame          94.0           90.0   \n34                  Top Gun: Maverick          96.0           99.0   \n440                   Confess, Fletch          86.0           75.0   \n161                     Black Panther          96.0           79.0   \n141            Avengers: Infinity War          85.0           92.0   \n162                           Titanic          88.0           69.0   \n111          Star Wars: The Last Jedi          91.0           42.0   \n258                     The Lion King          52.0           88.0   \n345      Rogue One: A Star Wars Story          84.0           87.0   \n109  Star Wars: The Rise of Skywalker          52.0           86.0   \n\n                                                Rating  \\\n71   PG-13(SequencesofSci-FiViolence|Action|SomeLan...   \n34   PG-13(SomeStrongLanguage|SequencesofIntenseAct...   \n440              R(SomeSexualContent|Language|DrugUse)   \n161  PG-13(SequencesofActionViolence|ABriefRudeGest...   \n141  PG-13(IntenseSci-FiViolence|ActionThroughout|L...   \n162  PG-13(DisasterRelatedPeril|BriefLanguage|Nudit...   \n111            PG-13(Violence|SequencesofSci-FiAction)   \n258  PG(SequencesofViolence|Peril|SomeThematicEleme...   \n345                     PG-13(Sci-FiViolenceandAction)   \n109                     PG-13(Sci-FiViolenceandAction)   \n\n                                                 Genre Original Language  \\\n71   [\"['Action',\", \"'Adventure',\", \"'Fantasy',\", \"...           English   \n34                      [\"['Action',\", \"'Adventure']\"]           English   \n440              [\"['Comedy',\", \"'Mystery&thriller']\"]           English   \n161       [\"['Action',\", \"'Adventure',\", \"'Fantasy']\"]           English   \n141  [\"['Action',\", \"'Adventure',\", \"'Fantasy',\", \"...           English   \n162          [\"['History',\", \"'Drama',\", \"'Romance']\"]           English   \n111  [\"['Sci-fi',\", \"'Adventure',\", \"'Action',\", \"'...           English   \n258    [\"['Kids&family',\", \"'Adventure',\", \"'Drama']\"]           English   \n345  [\"['Sci-fi',\", \"'Adventure',\", \"'Action',\", \"'...           English   \n109  [\"['Sci-fi',\", \"'Adventure',\", \"'Action',\", \"'...           English   \n\n                                Director  \\\n71   [\"['AnthonyRusso',\", \"'JoeRusso']\"]   \n34                [\"['JosephKosinski']\"]   \n440                  [\"['GregMottola']\"]   \n161                  [\"['RyanCoogler']\"]   \n141  [\"['AnthonyRusso',\", \"'JoeRusso']\"]   \n162                 [\"['JamesCameron']\"]   \n111                  [\"['RianJohnson']\"]   \n258                   [\"['JonFavreau']\"]   \n345                [\"['GarethEdwards']\"]   \n109                   [\"['J.J.Abrams']\"]   \n\n                                              Producer  \\\n71                                  [\"['KevinFeige']\"]   \n34   [\"['JerryBruckheimer',\", \"'TomCruise',\", \"'Dav...   \n440  [\"['BillBlock',\", \"'JonHamm',\", \"'ConnieTavel']\"]   \n161                                 [\"['KevinFeige']\"]   \n141                                 [\"['KevinFeige']\"]   \n162               [\"['JamesCameron',\", \"'JonLandau']\"]   \n111           [\"['KathleenKennedy',\", \"'RamBergman']\"]   \n258  [\"['JonFavreau',\", \"'JeffreySilver',\", \"'Karen...   \n345  [\"['KathleenKennedy',\", \"'AllisonShearmur',\", ...   \n109  [\"['KathleenKennedy',\", \"'J.J.Abrams',\", \"'Mic...   \n\n                                                Writer  \\\n71      [\"['ChristopherMarkus',\", \"'StephenMcFeely']\"]   \n34   [\"['EhrenKruger',\", \"'EricWarrenSinger',\", \"'C...   \n440                 [\"['GregMottola',\", \"'ZevBorow']\"]   \n161            [\"['RyanCoogler',\", \"'JoeRobertCole']\"]   \n141     [\"['ChristopherMarkus',\", \"'StephenMcFeely']\"]   \n162                               [\"['JamesCameron']\"]   \n111                                [\"['RianJohnson']\"]   \n258                              [\"['JeffNathanson']\"]   \n345                [\"['ChrisWeitz',\", \"'TonyGilroy']\"]   \n109               [\"['ChrisTerrio',\", \"'J.J.Abrams']\"]   \n\n    Release Date (Theaters) Release Date (Streaming)  Box Office (Gross USA)  \\\n71          Apr26 2019 wide               Jul30 2019             858000000.0   \n34          May27 2022 wide               Aug22 2022             718000000.0   \n440         Sep16 2022 wide               Sep16 2022             711000000.0   \n161         Feb16 2018 wide                May2 2018             700000000.0   \n141         Apr27 2018 wide               Aug14 2018             678000000.0   \n162         Dec19 1997 wide                Jan8 2002             658000000.0   \n111         Dec15 2017 wide               Mar27 2018             620000000.0   \n258         Jul19 2019 wide               Aug27 2019             543000000.0   \n345         Dec16 2016 wide                Apr4 2017             533000000.0   \n109         Dec20 2019 wide               Dec20 2019             515000000.0   \n\n    Runtime                       Distributor  \\\n71     3h1m                        WaltDisney   \n34    2h11m                 ParamountPictures   \n440   1h38m                      MiramaxFilms   \n161   2h14m                        WaltDisney   \n141   2h29m                        WaltDisney   \n162   3h15m  20thCenturyFox ParamountPictures   \n111   2h32m                        WaltDisney   \n258   1h58m                        WaltDisney   \n345   2h14m                        WaltDisney   \n109   2h22m                        WaltDisney   \n\n                                             Sound Mix  \n71                    DolbyAtmos DTS SDDS DolbyDigital  \n34                                          DolbyAtmos  \n440                                                NaN  \n161                                     DTS DolbyAtmos  \n141                        DolbyAtmos DolbyDigital DTS  \n162  DolbyDigital DolbySR DolbyStereo Surround DTS ...  \n111                        DolbyDigital DolbyAtmos DTS  \n258                        DTS DolbyDigital DolbyAtmos  \n345                            DolbyDigital DolbyAtmos  \n109                        DolbyAtmos DolbyDigital DTS  ",
      "text/html": "<div>\n<style scoped>\n    .dataframe tbody tr th:only-of-type {\n        vertical-align: middle;\n    }\n\n    .dataframe tbody tr th {\n        vertical-align: top;\n    }\n\n    .dataframe thead th {\n        text-align: right;\n    }\n</style>\n<table border=\"1\" class=\"dataframe\">\n  <thead>\n    <tr style=\"text-align: right;\">\n      <th></th>\n      <th>title</th>\n      <th>tomatoescore</th>\n      <th>audiencescore</th>\n      <th>Rating</th>\n      <th>Genre</th>\n      <th>Original Language</th>\n      <th>Director</th>\n      <th>Producer</th>\n      <th>Writer</th>\n      <th>Release Date (Theaters)</th>\n      <th>Release Date (Streaming)</th>\n      <th>Box Office (Gross USA)</th>\n      <th>Runtime</th>\n      <th>Distributor</th>\n      <th>Sound Mix</th>\n    </tr>\n  </thead>\n  <tbody>\n    <tr>\n      <th>71</th>\n      <td>Avengers: Endgame</td>\n      <td>94.0</td>\n      <td>90.0</td>\n      <td>PG-13(SequencesofSci-FiViolence|Action|SomeLan...</td>\n      <td>[\"['Action',\", \"'Adventure',\", \"'Fantasy',\", \"...</td>\n      <td>English</td>\n      <td>[\"['AnthonyRusso',\", \"'JoeRusso']\"]</td>\n      <td>[\"['KevinFeige']\"]</td>\n      <td>[\"['ChristopherMarkus',\", \"'StephenMcFeely']\"]</td>\n      <td>Apr26 2019 wide</td>\n      <td>Jul30 2019</td>\n      <td>858000000.0</td>\n      <td>3h1m</td>\n      <td>WaltDisney</td>\n      <td>DolbyAtmos DTS SDDS DolbyDigital</td>\n    </tr>\n    <tr>\n      <th>34</th>\n      <td>Top Gun: Maverick</td>\n      <td>96.0</td>\n      <td>99.0</td>\n      <td>PG-13(SomeStrongLanguage|SequencesofIntenseAct...</td>\n      <td>[\"['Action',\", \"'Adventure']\"]</td>\n      <td>English</td>\n      <td>[\"['JosephKosinski']\"]</td>\n      <td>[\"['JerryBruckheimer',\", \"'TomCruise',\", \"'Dav...</td>\n      <td>[\"['EhrenKruger',\", \"'EricWarrenSinger',\", \"'C...</td>\n      <td>May27 2022 wide</td>\n      <td>Aug22 2022</td>\n      <td>718000000.0</td>\n      <td>2h11m</td>\n      <td>ParamountPictures</td>\n      <td>DolbyAtmos</td>\n    </tr>\n    <tr>\n      <th>440</th>\n      <td>Confess, Fletch</td>\n      <td>86.0</td>\n      <td>75.0</td>\n      <td>R(SomeSexualContent|Language|DrugUse)</td>\n      <td>[\"['Comedy',\", \"'Mystery&amp;thriller']\"]</td>\n      <td>English</td>\n      <td>[\"['GregMottola']\"]</td>\n      <td>[\"['BillBlock',\", \"'JonHamm',\", \"'ConnieTavel']\"]</td>\n      <td>[\"['GregMottola',\", \"'ZevBorow']\"]</td>\n      <td>Sep16 2022 wide</td>\n      <td>Sep16 2022</td>\n      <td>711000000.0</td>\n      <td>1h38m</td>\n      <td>MiramaxFilms</td>\n      <td>NaN</td>\n    </tr>\n    <tr>\n      <th>161</th>\n      <td>Black Panther</td>\n      <td>96.0</td>\n      <td>79.0</td>\n      <td>PG-13(SequencesofActionViolence|ABriefRudeGest...</td>\n      <td>[\"['Action',\", \"'Adventure',\", \"'Fantasy']\"]</td>\n      <td>English</td>\n      <td>[\"['RyanCoogler']\"]</td>\n      <td>[\"['KevinFeige']\"]</td>\n      <td>[\"['RyanCoogler',\", \"'JoeRobertCole']\"]</td>\n      <td>Feb16 2018 wide</td>\n      <td>May2 2018</td>\n      <td>700000000.0</td>\n      <td>2h14m</td>\n      <td>WaltDisney</td>\n      <td>DTS DolbyAtmos</td>\n    </tr>\n    <tr>\n      <th>141</th>\n      <td>Avengers: Infinity War</td>\n      <td>85.0</td>\n      <td>92.0</td>\n      <td>PG-13(IntenseSci-FiViolence|ActionThroughout|L...</td>\n      <td>[\"['Action',\", \"'Adventure',\", \"'Fantasy',\", \"...</td>\n      <td>English</td>\n      <td>[\"['AnthonyRusso',\", \"'JoeRusso']\"]</td>\n      <td>[\"['KevinFeige']\"]</td>\n      <td>[\"['ChristopherMarkus',\", \"'StephenMcFeely']\"]</td>\n      <td>Apr27 2018 wide</td>\n      <td>Aug14 2018</td>\n      <td>678000000.0</td>\n      <td>2h29m</td>\n      <td>WaltDisney</td>\n      <td>DolbyAtmos DolbyDigital DTS</td>\n    </tr>\n    <tr>\n      <th>162</th>\n      <td>Titanic</td>\n      <td>88.0</td>\n      <td>69.0</td>\n      <td>PG-13(DisasterRelatedPeril|BriefLanguage|Nudit...</td>\n      <td>[\"['History',\", \"'Drama',\", \"'Romance']\"]</td>\n      <td>English</td>\n      <td>[\"['JamesCameron']\"]</td>\n      <td>[\"['JamesCameron',\", \"'JonLandau']\"]</td>\n      <td>[\"['JamesCameron']\"]</td>\n      <td>Dec19 1997 wide</td>\n      <td>Jan8 2002</td>\n      <td>658000000.0</td>\n      <td>3h15m</td>\n      <td>20thCenturyFox ParamountPictures</td>\n      <td>DolbyDigital DolbySR DolbyStereo Surround DTS ...</td>\n    </tr>\n    <tr>\n      <th>111</th>\n      <td>Star Wars: The Last Jedi</td>\n      <td>91.0</td>\n      <td>42.0</td>\n      <td>PG-13(Violence|SequencesofSci-FiAction)</td>\n      <td>[\"['Sci-fi',\", \"'Adventure',\", \"'Action',\", \"'...</td>\n      <td>English</td>\n      <td>[\"['RianJohnson']\"]</td>\n      <td>[\"['KathleenKennedy',\", \"'RamBergman']\"]</td>\n      <td>[\"['RianJohnson']\"]</td>\n      <td>Dec15 2017 wide</td>\n      <td>Mar27 2018</td>\n      <td>620000000.0</td>\n      <td>2h32m</td>\n      <td>WaltDisney</td>\n      <td>DolbyDigital DolbyAtmos DTS</td>\n    </tr>\n    <tr>\n      <th>258</th>\n      <td>The Lion King</td>\n      <td>52.0</td>\n      <td>88.0</td>\n      <td>PG(SequencesofViolence|Peril|SomeThematicEleme...</td>\n      <td>[\"['Kids&amp;family',\", \"'Adventure',\", \"'Drama']\"]</td>\n      <td>English</td>\n      <td>[\"['JonFavreau']\"]</td>\n      <td>[\"['JonFavreau',\", \"'JeffreySilver',\", \"'Karen...</td>\n      <td>[\"['JeffNathanson']\"]</td>\n      <td>Jul19 2019 wide</td>\n      <td>Aug27 2019</td>\n      <td>543000000.0</td>\n      <td>1h58m</td>\n      <td>WaltDisney</td>\n      <td>DTS DolbyDigital DolbyAtmos</td>\n    </tr>\n    <tr>\n      <th>345</th>\n      <td>Rogue One: A Star Wars Story</td>\n      <td>84.0</td>\n      <td>87.0</td>\n      <td>PG-13(Sci-FiViolenceandAction)</td>\n      <td>[\"['Sci-fi',\", \"'Adventure',\", \"'Action',\", \"'...</td>\n      <td>English</td>\n      <td>[\"['GarethEdwards']\"]</td>\n      <td>[\"['KathleenKennedy',\", \"'AllisonShearmur',\", ...</td>\n      <td>[\"['ChrisWeitz',\", \"'TonyGilroy']\"]</td>\n      <td>Dec16 2016 wide</td>\n      <td>Apr4 2017</td>\n      <td>533000000.0</td>\n      <td>2h14m</td>\n      <td>WaltDisney</td>\n      <td>DolbyDigital DolbyAtmos</td>\n    </tr>\n    <tr>\n      <th>109</th>\n      <td>Star Wars: The Rise of Skywalker</td>\n      <td>52.0</td>\n      <td>86.0</td>\n      <td>PG-13(Sci-FiViolenceandAction)</td>\n      <td>[\"['Sci-fi',\", \"'Adventure',\", \"'Action',\", \"'...</td>\n      <td>English</td>\n      <td>[\"['J.J.Abrams']\"]</td>\n      <td>[\"['KathleenKennedy',\", \"'J.J.Abrams',\", \"'Mic...</td>\n      <td>[\"['ChrisTerrio',\", \"'J.J.Abrams']\"]</td>\n      <td>Dec20 2019 wide</td>\n      <td>Dec20 2019</td>\n      <td>515000000.0</td>\n      <td>2h22m</td>\n      <td>WaltDisney</td>\n      <td>DolbyAtmos DolbyDigital DTS</td>\n    </tr>\n  </tbody>\n</table>\n</div>"
     },
     "execution_count": 27,
     "metadata": {},
     "output_type": "execute_result"
    }
   ],
   "source": [
    "df_expensive.head(10)"
   ],
   "metadata": {
    "collapsed": false,
    "pycharm": {
     "name": "#%%\n"
    }
   }
  },
  {
   "cell_type": "code",
   "execution_count": null,
   "outputs": [],
   "source": [],
   "metadata": {
    "collapsed": false,
    "pycharm": {
     "name": "#%%\n"
    }
   }
  },
  {
   "cell_type": "code",
   "execution_count": 17,
   "outputs": [],
   "source": [
    "df.drop(\"Unnamed: 0\", axis=1, inplace=True)"
   ],
   "metadata": {
    "collapsed": false
   }
  },
  {
   "cell_type": "code",
   "execution_count": 26,
   "outputs": [
    {
     "name": "stdout",
     "output_type": "stream",
     "text": [
      "75700000.0\n",
      "58600000.0\n",
      "17200000.0\n",
      "nan\n",
      "nan\n",
      "nan\n",
      "596500.0\n",
      "43000000.0\n",
      "140400000.0\n",
      "10600000.0\n",
      "171000000.0\n",
      "32400000.0\n",
      "64099999.99999999\n",
      "nan\n",
      "182600000.0\n",
      "92000000.0\n",
      "35400000.0\n",
      "6400000.0\n",
      "123200000.0\n",
      "4600000.0\n",
      "15200000.0\n",
      "nan\n",
      "95000000.0\n",
      "38500000.0\n",
      "6800000.0\n",
      "5100000.0\n",
      "nan\n",
      "168100000.0\n",
      "nan\n",
      "nan\n",
      "17300000.0\n",
      "nan\n",
      "11600000.0\n",
      "nan\n",
      "718500000.0\n",
      "453800000.0\n",
      "3000000.0\n",
      "103100000.0\n",
      "32100000.0\n",
      "151000000.0\n",
      "nan\n",
      "45300000.0\n",
      "8199999.999999999\n",
      "105900000.0\n",
      "369300000.0\n",
      "nan\n",
      "90000000.0\n",
      "nan\n",
      "188000000.0\n",
      "nan\n",
      "2200000.0\n",
      "500100.0\n",
      "40800000.0\n",
      "nan\n",
      "nan\n",
      "109700000.0\n",
      "8300000.000000001\n",
      "nan\n",
      "176000000.0\n",
      "nan\n",
      "39300000.0\n",
      "343200000.0\n",
      "5700000.0\n",
      "nan\n",
      "6000000.0\n",
      "nan\n",
      "nan\n",
      "nan\n",
      "1200000.0\n",
      "nan\n",
      "23200000.0\n",
      "858400000.0\n",
      "14900000.0\n",
      "335400000.0\n",
      "nan\n",
      "26000000.0\n",
      "34200000.0\n",
      "44100000.0\n",
      "nan\n",
      "376000000.0\n",
      "nan\n",
      "20000000.0\n",
      "2000000.0\n",
      "nan\n",
      "55800000.0\n",
      "nan\n",
      "nan\n",
      "nan\n",
      "nan\n",
      "10300000.0\n",
      "21100.0\n",
      "nan\n",
      "38400000.0\n",
      "nan\n",
      "nan\n",
      "37700000.0\n",
      "nan\n",
      "nan\n",
      "53400000.0\n",
      "36500000.0\n",
      "nan\n",
      "27200000.0\n",
      "166100000.0\n",
      "754700.0\n",
      "164900000.0\n",
      "nan\n",
      "nan\n",
      "411300000.0\n",
      "6400000.0\n",
      "515200000.00000006\n",
      "525400.0\n",
      "620200000.0\n",
      "1100000.0\n",
      "nan\n",
      "nan\n",
      "nan\n",
      "108300000.0\n",
      "5800000.0\n",
      "45100000.0\n",
      "nan\n",
      "nan\n",
      "147700000.0\n",
      "38000000.0\n",
      "224500000.0\n",
      "nan\n",
      "21300.0\n",
      "3300000.0\n",
      "31800000.0\n",
      "58100000.0\n",
      "2100000.0\n",
      "23500000.0\n",
      "37000000.0\n",
      "nan\n",
      "175000000.0\n",
      "27400000.0\n",
      "190200000.0\n",
      "142400000.0\n",
      "48200000.0\n",
      "nan\n",
      "3200000.0\n",
      "330200000.0\n",
      "678800000.0\n",
      "nan\n",
      "nan\n",
      "91500000.0\n",
      "nan\n",
      "nan\n",
      "nan\n",
      "7400000.0\n",
      "134800000.0\n",
      "nan\n",
      "nan\n",
      "nan\n",
      "10000000.0\n",
      "nan\n",
      "nan\n",
      "46500000.0\n",
      "165400000.0\n",
      "4200000.0\n",
      "93400000.0\n",
      "50200000.0\n",
      "700200000.0\n",
      "658800000.0\n",
      "151100000.0\n",
      "nan\n",
      "nan\n",
      "nan\n",
      "68200000.0\n",
      "281700000.0\n",
      "2200000.0\n",
      "nan\n",
      "46900000.0\n",
      "15000000.0\n",
      "nan\n",
      "12100000.0\n",
      "426800000.0\n",
      "12100000.0\n",
      "50000000.0\n",
      "291000000.0\n",
      "nan\n",
      "12700000.0\n",
      "nan\n",
      "330300000.0\n",
      "36200000.0\n",
      "318300000.0\n",
      "27500000.0\n",
      "10900000.0\n",
      "180100.0\n",
      "nan\n",
      "100400000.0\n",
      "11100000.0\n",
      "nan\n",
      "nan\n",
      "nan\n",
      "nan\n",
      "190700000.0\n",
      "nan\n",
      "149200000.0\n",
      "100500000.0\n",
      "9000000.0\n",
      "220100000.0\n",
      "nan\n",
      "183600000.0\n",
      "292600000.0\n",
      "nan\n",
      "22300000.0\n",
      "132400000.0\n",
      "nan\n",
      "68400000.0\n",
      "10800000.0\n",
      "64000000.0\n",
      "121600000.0\n",
      "nan\n",
      "nan\n",
      "32700000.000000004\n",
      "365000.0\n",
      "95800000.0\n",
      "nan\n",
      "nan\n",
      "nan\n",
      "27000000.0\n",
      "nan\n",
      "nan\n",
      "123.0\n",
      "13700000.0\n",
      "30300000.0\n",
      "4300000.0\n",
      "nan\n",
      "48500.0\n",
      "104900000.0\n",
      "211000.0\n",
      "160200000.0\n",
      "186400.0\n",
      "9000000.0\n",
      "nan\n",
      "50000000.0\n",
      "nan\n",
      "160800000.0\n",
      "1800000.0\n",
      "8200.0\n",
      "216600000.0\n",
      "nan\n",
      "248200000.0\n",
      "nan\n",
      "nan\n",
      "nan\n",
      "66200000.0\n",
      "9100000.0\n",
      "3100000.0\n",
      "97200000.0\n",
      "153600000.0\n",
      "14700000.0\n",
      "86100000.0\n",
      "267700000.0\n",
      "nan\n",
      "64300000.0\n",
      "128000000.0\n",
      "nan\n",
      "543600000.0\n",
      "nan\n",
      "512799.99999999994\n",
      "47700000.0\n",
      "nan\n",
      "380300000.0\n",
      "45000.0\n",
      "227000000.0\n",
      "187700000.0\n",
      "48900000.0\n",
      "173000000.0\n",
      "42200000.0\n",
      "10100000.0\n",
      "28700000.0\n",
      "nan\n",
      "234900.0\n",
      "26800000.0\n",
      "nan\n",
      "nan\n",
      "nan\n",
      "86100000.0\n",
      "333700000.0\n",
      "11600000.0\n",
      "217400000.0\n",
      "390700000.0\n",
      "474500000.0\n",
      "7200000.0\n",
      "412800000.0\n",
      "25100000.0\n",
      "70200000.0\n",
      "11300000.0\n",
      "118300000.0\n",
      "48100000.0\n",
      "53100000.0\n",
      "50100000.0\n",
      "335000000.0\n",
      "4700.0\n",
      "nan\n",
      "nan\n",
      "31300000.0\n",
      "nan\n",
      "174000000.0\n",
      "7800000.0\n",
      "85100000.0\n",
      "nan\n",
      "nan\n",
      "nan\n",
      "nan\n",
      "131600000.0\n",
      "1100000.0\n",
      "317900000.0\n",
      "nan\n",
      "125600000.0\n",
      "434000000.0\n",
      "nan\n",
      "nan\n",
      "785400.0\n",
      "327500000.0\n",
      "51000.0\n",
      "nan\n",
      "1500000.0\n",
      "nan\n",
      "17000000.0\n",
      "408100000.0\n",
      "552800.0\n",
      "369500000.0\n",
      "63300000.0\n",
      "23000000.0\n",
      "33400000.0\n",
      "2100000.0\n",
      "nan\n",
      "nan\n",
      "nan\n",
      "315500000.0\n",
      "nan\n",
      "nan\n",
      "13400000.0\n",
      "101500000.0\n",
      "226300000.0\n",
      "nan\n",
      "nan\n",
      "100100000.0\n",
      "nan\n",
      "nan\n",
      "67000000.0\n",
      "459000000.0\n",
      "nan\n",
      "533200000.00000006\n",
      "188000000.0\n",
      "228400000.0\n",
      "157000000.0\n",
      "nan\n",
      "nan\n",
      "nan\n",
      "180200000.0\n",
      "2300000.0\n",
      "69000000.0\n",
      "401800000.0\n",
      "nan\n",
      "84100000.0\n",
      "81300000.0\n",
      "25500000.0\n",
      "100400000.0\n",
      "92200000.0\n",
      "nan\n",
      "25400000.0\n",
      "nan\n",
      "59100000.0\n",
      "334400000.0\n",
      "nan\n",
      "96100000.0\n",
      "117600000.0\n",
      "nan\n",
      "nan\n",
      "nan\n",
      "nan\n",
      "104100000.0\n",
      "32400000.0\n",
      "111000000.0\n",
      "6600000.0\n",
      "nan\n",
      "61200000.0\n",
      "259700000.0\n",
      "17000000.0\n",
      "nan\n",
      "150800000.0\n",
      "nan\n",
      "120500000.0\n",
      "5200000.0\n",
      "2000000.0\n",
      "17800000.0\n",
      "17400000.0\n",
      "261000.0\n",
      "nan\n",
      "nan\n",
      "53800000.0\n",
      "38500000.0\n",
      "nan\n",
      "nan\n",
      "37200000.0\n",
      "27900000.0\n",
      "nan\n",
      "6700000.0\n",
      "nan\n",
      "19800000.0\n",
      "nan\n",
      "136000000.0\n",
      "155000000.0\n",
      "108100000.0\n",
      "179800000.0\n",
      "nan\n",
      "3600000.0\n",
      "nan\n",
      "48000000.0\n",
      "26000000.0\n",
      "4700000.0\n",
      "10400000.0\n",
      "210500000.0\n",
      "nan\n",
      "16100000.000000002\n",
      "53500000.0\n",
      "315000000.0\n",
      "nan\n",
      "nan\n",
      "nan\n",
      "nan\n",
      "426500.0\n",
      "159200000.0\n",
      "128800000.00000001\n",
      "nan\n",
      "39000.0\n",
      "nan\n",
      "nan\n",
      "20500000.0\n",
      "nan\n",
      "1300000.0\n",
      "355600000.0\n",
      "4300000.0\n",
      "nan\n",
      "nan\n",
      "389800000.0\n",
      "977300.0\n",
      "711600000.0\n",
      "52400000.0\n",
      "nan\n",
      "107500000.0\n",
      "nan\n",
      "381000000.0\n",
      "nan\n",
      "2000000.0\n",
      "42300000.0\n",
      "700000.0\n",
      "nan\n",
      "112200000.0\n",
      "213500000.0\n",
      "137000000.0\n",
      "100000000.0\n",
      "436500000.0\n",
      "107800000.0\n",
      "nan\n",
      "2100000.0\n",
      "nan\n",
      "1600000.0\n",
      "nan\n",
      "234300000.0\n",
      "78700000.0\n",
      "26700000.0\n",
      "174500000.0\n",
      "2000000.0\n",
      "nan\n",
      "85300000.0\n",
      "nan\n",
      "172500000.0\n",
      "12700000.0\n",
      "nan\n",
      "14000000.0\n",
      "5300000.0\n"
     ]
    }
   ],
   "source": [
    "\n",
    "def convertir_valeur(valeur):\n",
    "    #check if the value is not nan\n",
    "    if type(valeur) == float:\n",
    "        return valeur\n",
    "    print(valeur)\n",
    "    if valeur[-1] == 'K':\n",
    "        return float(valeur[1:-2]) * 1000\n",
    "    elif valeur[-1] == 'M':\n",
    "        return float(valeur[1:-2]) * 1000000\n",
    "    else:\n",
    "        return float(valeur[1:])\n",
    "\n",
    "# apply the function to the column Box Office (Gross USA)\n",
    "df['Box Office (Gross USA)'] = df['Box Office (Gross USA)'].apply(convertir_valeur)"
   ],
   "metadata": {
    "collapsed": false
   }
  },
  {
   "cell_type": "code",
   "execution_count": 34,
   "outputs": [],
   "source": [
    "# Most expensive movies\n",
    "df_expensive = df.sort_values(by=\"Box Office (Gross USA)\", ascending=False)\n",
    "#Remove the rows Box Office (Gross USA) with the value nan\n",
    "df_expensive = df_expensive[df_expensive['Box Office (Gross USA)'].notna()]"
   ],
   "metadata": {
    "collapsed": false
   }
  },
  {
   "cell_type": "code",
   "execution_count": 35,
   "outputs": [
    {
     "data": {
      "text/plain": "                                title  tomatoescore  audiencescore  \\\n71                  Avengers: Endgame          94.0           90.0   \n34                  Top Gun: Maverick          96.0           99.0   \n440                   Confess, Fletch          86.0           75.0   \n161                     Black Panther          96.0           79.0   \n141            Avengers: Infinity War          85.0           92.0   \n162                           Titanic          88.0           69.0   \n111          Star Wars: The Last Jedi          91.0           42.0   \n258                     The Lion King          52.0           88.0   \n345      Rogue One: A Star Wars Story          84.0           87.0   \n109  Star Wars: The Rise of Skywalker          52.0           86.0   \n\n                                                Rating  \\\n71   PG-13(SequencesofSci-FiViolence|Action|SomeLan...   \n34   PG-13(SomeStrongLanguage|SequencesofIntenseAct...   \n440              R(SomeSexualContent|Language|DrugUse)   \n161  PG-13(SequencesofActionViolence|ABriefRudeGest...   \n141  PG-13(IntenseSci-FiViolence|ActionThroughout|L...   \n162  PG-13(DisasterRelatedPeril|BriefLanguage|Nudit...   \n111            PG-13(Violence|SequencesofSci-FiAction)   \n258  PG(SequencesofViolence|Peril|SomeThematicEleme...   \n345                     PG-13(Sci-FiViolenceandAction)   \n109                     PG-13(Sci-FiViolenceandAction)   \n\n                                            Genre Original Language  \\\n71   ['Action', 'Adventure', 'Fantasy', 'Sci-fi']           English   \n34                        ['Action', 'Adventure']           English   \n440                ['Comedy', 'Mystery&thriller']           English   \n161            ['Action', 'Adventure', 'Fantasy']           English   \n141  ['Action', 'Adventure', 'Fantasy', 'Sci-fi']           English   \n162               ['History', 'Drama', 'Romance']           English   \n111  ['Sci-fi', 'Adventure', 'Action', 'Fantasy']           English   \n258         ['Kids&family', 'Adventure', 'Drama']           English   \n345  ['Sci-fi', 'Adventure', 'Action', 'Fantasy']           English   \n109  ['Sci-fi', 'Adventure', 'Action', 'Fantasy']           English   \n\n                         Director  \\\n71   ['AnthonyRusso', 'JoeRusso']   \n34             ['JosephKosinski']   \n440               ['GregMottola']   \n161               ['RyanCoogler']   \n141  ['AnthonyRusso', 'JoeRusso']   \n162              ['JamesCameron']   \n111               ['RianJohnson']   \n258                ['JonFavreau']   \n345             ['GarethEdwards']   \n109                ['J.J.Abrams']   \n\n                                              Producer  \\\n71                                      ['KevinFeige']   \n34   ['JerryBruckheimer', 'TomCruise', 'DavidElliso...   \n440            ['BillBlock', 'JonHamm', 'ConnieTavel']   \n161                                     ['KevinFeige']   \n141                                     ['KevinFeige']   \n162                      ['JamesCameron', 'JonLandau']   \n111                  ['KathleenKennedy', 'RamBergman']   \n258  ['JonFavreau', 'JeffreySilver', 'KarenGilchrist']   \n345  ['KathleenKennedy', 'AllisonShearmur', 'SimonE...   \n109  ['KathleenKennedy', 'J.J.Abrams', 'MichelleRej...   \n\n                                                Writer  \\\n71             ['ChristopherMarkus', 'StephenMcFeely']   \n34   ['EhrenKruger', 'EricWarrenSinger', 'Christoph...   \n440                        ['GregMottola', 'ZevBorow']   \n161                   ['RyanCoogler', 'JoeRobertCole']   \n141            ['ChristopherMarkus', 'StephenMcFeely']   \n162                                   ['JamesCameron']   \n111                                    ['RianJohnson']   \n258                                  ['JeffNathanson']   \n345                       ['ChrisWeitz', 'TonyGilroy']   \n109                      ['ChrisTerrio', 'J.J.Abrams']   \n\n    Release Date (Theaters) Release Date (Streaming)  Box Office (Gross USA)  \\\n71          Apr26 2019 wide               Jul30 2019             858400000.0   \n34          May27 2022 wide               Aug22 2022             718500000.0   \n440         Sep16 2022 wide               Sep16 2022             711600000.0   \n161         Feb16 2018 wide                May2 2018             700200000.0   \n141         Apr27 2018 wide               Aug14 2018             678800000.0   \n162         Dec19 1997 wide                Jan8 2002             658800000.0   \n111         Dec15 2017 wide               Mar27 2018             620200000.0   \n258         Jul19 2019 wide               Aug27 2019             543600000.0   \n345         Dec16 2016 wide                Apr4 2017             533200000.0   \n109         Dec20 2019 wide               Dec20 2019             515200000.0   \n\n    Runtime                       Distributor  \\\n71     3h1m                        WaltDisney   \n34    2h11m                 ParamountPictures   \n440   1h38m                      MiramaxFilms   \n161   2h14m                        WaltDisney   \n141   2h29m                        WaltDisney   \n162   3h15m  20thCenturyFox ParamountPictures   \n111   2h32m                        WaltDisney   \n258   1h58m                        WaltDisney   \n345   2h14m                        WaltDisney   \n109   2h22m                        WaltDisney   \n\n                                             Sound Mix  \n71                    DolbyAtmos DTS SDDS DolbyDigital  \n34                                          DolbyAtmos  \n440                                                NaN  \n161                                     DTS DolbyAtmos  \n141                        DolbyAtmos DolbyDigital DTS  \n162  DolbyDigital DolbySR DolbyStereo Surround DTS ...  \n111                        DolbyDigital DolbyAtmos DTS  \n258                        DTS DolbyDigital DolbyAtmos  \n345                            DolbyDigital DolbyAtmos  \n109                        DolbyAtmos DolbyDigital DTS  ",
      "text/html": "<div>\n<style scoped>\n    .dataframe tbody tr th:only-of-type {\n        vertical-align: middle;\n    }\n\n    .dataframe tbody tr th {\n        vertical-align: top;\n    }\n\n    .dataframe thead th {\n        text-align: right;\n    }\n</style>\n<table border=\"1\" class=\"dataframe\">\n  <thead>\n    <tr style=\"text-align: right;\">\n      <th></th>\n      <th>title</th>\n      <th>tomatoescore</th>\n      <th>audiencescore</th>\n      <th>Rating</th>\n      <th>Genre</th>\n      <th>Original Language</th>\n      <th>Director</th>\n      <th>Producer</th>\n      <th>Writer</th>\n      <th>Release Date (Theaters)</th>\n      <th>Release Date (Streaming)</th>\n      <th>Box Office (Gross USA)</th>\n      <th>Runtime</th>\n      <th>Distributor</th>\n      <th>Sound Mix</th>\n    </tr>\n  </thead>\n  <tbody>\n    <tr>\n      <th>71</th>\n      <td>Avengers: Endgame</td>\n      <td>94.0</td>\n      <td>90.0</td>\n      <td>PG-13(SequencesofSci-FiViolence|Action|SomeLan...</td>\n      <td>['Action', 'Adventure', 'Fantasy', 'Sci-fi']</td>\n      <td>English</td>\n      <td>['AnthonyRusso', 'JoeRusso']</td>\n      <td>['KevinFeige']</td>\n      <td>['ChristopherMarkus', 'StephenMcFeely']</td>\n      <td>Apr26 2019 wide</td>\n      <td>Jul30 2019</td>\n      <td>858400000.0</td>\n      <td>3h1m</td>\n      <td>WaltDisney</td>\n      <td>DolbyAtmos DTS SDDS DolbyDigital</td>\n    </tr>\n    <tr>\n      <th>34</th>\n      <td>Top Gun: Maverick</td>\n      <td>96.0</td>\n      <td>99.0</td>\n      <td>PG-13(SomeStrongLanguage|SequencesofIntenseAct...</td>\n      <td>['Action', 'Adventure']</td>\n      <td>English</td>\n      <td>['JosephKosinski']</td>\n      <td>['JerryBruckheimer', 'TomCruise', 'DavidElliso...</td>\n      <td>['EhrenKruger', 'EricWarrenSinger', 'Christoph...</td>\n      <td>May27 2022 wide</td>\n      <td>Aug22 2022</td>\n      <td>718500000.0</td>\n      <td>2h11m</td>\n      <td>ParamountPictures</td>\n      <td>DolbyAtmos</td>\n    </tr>\n    <tr>\n      <th>440</th>\n      <td>Confess, Fletch</td>\n      <td>86.0</td>\n      <td>75.0</td>\n      <td>R(SomeSexualContent|Language|DrugUse)</td>\n      <td>['Comedy', 'Mystery&amp;thriller']</td>\n      <td>English</td>\n      <td>['GregMottola']</td>\n      <td>['BillBlock', 'JonHamm', 'ConnieTavel']</td>\n      <td>['GregMottola', 'ZevBorow']</td>\n      <td>Sep16 2022 wide</td>\n      <td>Sep16 2022</td>\n      <td>711600000.0</td>\n      <td>1h38m</td>\n      <td>MiramaxFilms</td>\n      <td>NaN</td>\n    </tr>\n    <tr>\n      <th>161</th>\n      <td>Black Panther</td>\n      <td>96.0</td>\n      <td>79.0</td>\n      <td>PG-13(SequencesofActionViolence|ABriefRudeGest...</td>\n      <td>['Action', 'Adventure', 'Fantasy']</td>\n      <td>English</td>\n      <td>['RyanCoogler']</td>\n      <td>['KevinFeige']</td>\n      <td>['RyanCoogler', 'JoeRobertCole']</td>\n      <td>Feb16 2018 wide</td>\n      <td>May2 2018</td>\n      <td>700200000.0</td>\n      <td>2h14m</td>\n      <td>WaltDisney</td>\n      <td>DTS DolbyAtmos</td>\n    </tr>\n    <tr>\n      <th>141</th>\n      <td>Avengers: Infinity War</td>\n      <td>85.0</td>\n      <td>92.0</td>\n      <td>PG-13(IntenseSci-FiViolence|ActionThroughout|L...</td>\n      <td>['Action', 'Adventure', 'Fantasy', 'Sci-fi']</td>\n      <td>English</td>\n      <td>['AnthonyRusso', 'JoeRusso']</td>\n      <td>['KevinFeige']</td>\n      <td>['ChristopherMarkus', 'StephenMcFeely']</td>\n      <td>Apr27 2018 wide</td>\n      <td>Aug14 2018</td>\n      <td>678800000.0</td>\n      <td>2h29m</td>\n      <td>WaltDisney</td>\n      <td>DolbyAtmos DolbyDigital DTS</td>\n    </tr>\n    <tr>\n      <th>162</th>\n      <td>Titanic</td>\n      <td>88.0</td>\n      <td>69.0</td>\n      <td>PG-13(DisasterRelatedPeril|BriefLanguage|Nudit...</td>\n      <td>['History', 'Drama', 'Romance']</td>\n      <td>English</td>\n      <td>['JamesCameron']</td>\n      <td>['JamesCameron', 'JonLandau']</td>\n      <td>['JamesCameron']</td>\n      <td>Dec19 1997 wide</td>\n      <td>Jan8 2002</td>\n      <td>658800000.0</td>\n      <td>3h15m</td>\n      <td>20thCenturyFox ParamountPictures</td>\n      <td>DolbyDigital DolbySR DolbyStereo Surround DTS ...</td>\n    </tr>\n    <tr>\n      <th>111</th>\n      <td>Star Wars: The Last Jedi</td>\n      <td>91.0</td>\n      <td>42.0</td>\n      <td>PG-13(Violence|SequencesofSci-FiAction)</td>\n      <td>['Sci-fi', 'Adventure', 'Action', 'Fantasy']</td>\n      <td>English</td>\n      <td>['RianJohnson']</td>\n      <td>['KathleenKennedy', 'RamBergman']</td>\n      <td>['RianJohnson']</td>\n      <td>Dec15 2017 wide</td>\n      <td>Mar27 2018</td>\n      <td>620200000.0</td>\n      <td>2h32m</td>\n      <td>WaltDisney</td>\n      <td>DolbyDigital DolbyAtmos DTS</td>\n    </tr>\n    <tr>\n      <th>258</th>\n      <td>The Lion King</td>\n      <td>52.0</td>\n      <td>88.0</td>\n      <td>PG(SequencesofViolence|Peril|SomeThematicEleme...</td>\n      <td>['Kids&amp;family', 'Adventure', 'Drama']</td>\n      <td>English</td>\n      <td>['JonFavreau']</td>\n      <td>['JonFavreau', 'JeffreySilver', 'KarenGilchrist']</td>\n      <td>['JeffNathanson']</td>\n      <td>Jul19 2019 wide</td>\n      <td>Aug27 2019</td>\n      <td>543600000.0</td>\n      <td>1h58m</td>\n      <td>WaltDisney</td>\n      <td>DTS DolbyDigital DolbyAtmos</td>\n    </tr>\n    <tr>\n      <th>345</th>\n      <td>Rogue One: A Star Wars Story</td>\n      <td>84.0</td>\n      <td>87.0</td>\n      <td>PG-13(Sci-FiViolenceandAction)</td>\n      <td>['Sci-fi', 'Adventure', 'Action', 'Fantasy']</td>\n      <td>English</td>\n      <td>['GarethEdwards']</td>\n      <td>['KathleenKennedy', 'AllisonShearmur', 'SimonE...</td>\n      <td>['ChrisWeitz', 'TonyGilroy']</td>\n      <td>Dec16 2016 wide</td>\n      <td>Apr4 2017</td>\n      <td>533200000.0</td>\n      <td>2h14m</td>\n      <td>WaltDisney</td>\n      <td>DolbyDigital DolbyAtmos</td>\n    </tr>\n    <tr>\n      <th>109</th>\n      <td>Star Wars: The Rise of Skywalker</td>\n      <td>52.0</td>\n      <td>86.0</td>\n      <td>PG-13(Sci-FiViolenceandAction)</td>\n      <td>['Sci-fi', 'Adventure', 'Action', 'Fantasy']</td>\n      <td>English</td>\n      <td>['J.J.Abrams']</td>\n      <td>['KathleenKennedy', 'J.J.Abrams', 'MichelleRej...</td>\n      <td>['ChrisTerrio', 'J.J.Abrams']</td>\n      <td>Dec20 2019 wide</td>\n      <td>Dec20 2019</td>\n      <td>515200000.0</td>\n      <td>2h22m</td>\n      <td>WaltDisney</td>\n      <td>DolbyAtmos DolbyDigital DTS</td>\n    </tr>\n  </tbody>\n</table>\n</div>"
     },
     "execution_count": 35,
     "metadata": {},
     "output_type": "execute_result"
    }
   ],
   "source": [
    "df_expensive.head(10)"
   ],
   "metadata": {
    "collapsed": false
   }
  },
  {
   "cell_type": "code",
   "execution_count": 36,
   "outputs": [
    {
     "data": {
      "text/plain": "                        Box Office (Gross USA)  audiencescore  tomatoescore\nBox Office (Gross USA)                1.000000       0.131145      0.015305\naudiencescore                         0.131145       1.000000      0.467025\ntomatoescore                          0.015305       0.467025      1.000000",
      "text/html": "<div>\n<style scoped>\n    .dataframe tbody tr th:only-of-type {\n        vertical-align: middle;\n    }\n\n    .dataframe tbody tr th {\n        vertical-align: top;\n    }\n\n    .dataframe thead th {\n        text-align: right;\n    }\n</style>\n<table border=\"1\" class=\"dataframe\">\n  <thead>\n    <tr style=\"text-align: right;\">\n      <th></th>\n      <th>Box Office (Gross USA)</th>\n      <th>audiencescore</th>\n      <th>tomatoescore</th>\n    </tr>\n  </thead>\n  <tbody>\n    <tr>\n      <th>Box Office (Gross USA)</th>\n      <td>1.000000</td>\n      <td>0.131145</td>\n      <td>0.015305</td>\n    </tr>\n    <tr>\n      <th>audiencescore</th>\n      <td>0.131145</td>\n      <td>1.000000</td>\n      <td>0.467025</td>\n    </tr>\n    <tr>\n      <th>tomatoescore</th>\n      <td>0.015305</td>\n      <td>0.467025</td>\n      <td>1.000000</td>\n    </tr>\n  </tbody>\n</table>\n</div>"
     },
     "execution_count": 36,
     "metadata": {},
     "output_type": "execute_result"
    }
   ],
   "source": [
    "# Find correlation between the box office, the audience score and the tomato score\n",
    "df_expensive[['Box Office (Gross USA)', 'audiencescore', 'tomatoescore']].corr()"
   ],
   "metadata": {
    "collapsed": false
   }
  },
  {
   "cell_type": "code",
   "execution_count": 38,
   "outputs": [
    {
     "data": {
      "text/plain": "<Axes: xlabel='Box Office (Gross USA)', ylabel='audiencescore'>"
     },
     "execution_count": 38,
     "metadata": {},
     "output_type": "execute_result"
    },
    {
     "data": {
      "text/plain": "<Figure size 640x480 with 1 Axes>",
      "image/png": "[encoded data removed]"
     },
     "metadata": {},
     "output_type": "display_data"
    }
   ],
   "source": [
    "# draw a scatter plot between the box office and the audience score\n",
    "import matplotlib\n",
    "df_expensive.plot.scatter(x='Box Office (Gross USA)', y='audiencescore')\n"
   ],
   "metadata": {
    "collapsed": false
   }
  },
  {
   "cell_type": "code",
   "execution_count": null,
   "outputs": [],
   "source": [],
   "metadata": {
    "collapsed": false
   }
  }
 ],
 "metadata": {
  "kernelspec": {
   "display_name": "Python 3",
   "language": "python",
   "name": "python3"
  },
  "language_info": {
   "codemirror_mode": {
    "name": "ipython",
    "version": 2
   },
   "file_extension": ".py",
   "mimetype": "text/x-python",
   "name": "python",
   "nbconvert_exporter": "python",
   "pygments_lexer": "ipython2",
   "version": "2.7.6"
  }
 },
 "nbformat": 4,
 "nbformat_minor": 0
}