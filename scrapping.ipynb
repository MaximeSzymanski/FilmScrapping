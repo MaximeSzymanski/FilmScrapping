{
 "cells": [
  {
   "cell_type": "markdown",
   "metadata": {
    "pycharm": {
     "name": "#%% md\n"
    }
   },
   "source": [
    "# Scraping Rotten Tomatoes and analyse the dataset\n",
    "\n",
    "This code will **scrape** the website **Rotten Tomatoes** to get the information of the movies available on the website. The information will be stored in a csv file.\n",
    "Then, the csv file will be used to **analyse the dataset** to find some interesting information.\n",
    "\n",
    "## Getting the data\n",
    "\n",
    "\n",
    "### Loading the films on the website Rotten Tomatoes\n",
    "\n",
    "In order to get the data, we will use the library **Selenium**. Selenium is a library that allows us to automate the browser. We will use it to click on the button \"Load more\" to get all the movies available on the website."
   ]
  },
  {
   "cell_type": "code",
   "execution_count": null,
   "metadata": {
    "pycharm": {
     "is_executing": true,
     "name": "#%%\n"
    }
   },
   "outputs": [],
   "source": [
    "from selenium.common import NoSuchElementException\n",
    "from selenium import webdriver\n",
    "import time\n",
    "import pandas as pd\n",
    "import requests\n",
    "from bs4 import BeautifulSoup\n",
    "from selenium.webdriver.common.by import By\n",
    "# The browser will be Chrome\n",
    "driver = webdriver.Chrome()\n",
    "# Open the website Rotten Tomatoes\n",
    "driver.get(\"https://www.rottentomatoes.com/browse/movies_at_home/sort:popular?page=5\")\n",
    "try:\n",
    "    # Click on the button \"Reject all\" to refuse the cookies, if the button exists. Its a button that appears when you first visit the website.\n",
    "    reject_all_button =driver.find_element(By.ID,\"onetrust-reject-all-handler\")\n",
    "    reject_all_button.click()\n",
    "\n",
    "except NoSuchElementException:\n",
    "    print('The button does not exist')\n",
    "    pass\n",
    "# The number of times we will click on the button \"Load more\", each time we click on the button, 30 movies will be added to the list of movies.\n",
    "number_of_reloading = 20\n",
    "# Click on the button \"Load more\" the number of times defined by the variable number_of_reloading\n",
    "for i in range(number_of_reloading):\n",
    "    try:\n",
    "        print('Step', i)\n",
    "        # Find the button \"Load more\"\n",
    "        load_more_button = driver.find_element(By.XPATH, \"//button[@data-discoverygridsmanager='btnLoadMore']\")\n",
    "        # Click on the button \"Load more\"\n",
    "        load_more_button.click()\n",
    "    except NoSuchElementException:\n",
    "        print('The button does not exist')\n",
    "        pass\n",
    "    # Pause of 0.5 second between each click on the button \"Load more\" to let the website load the new movies\n",
    "    time.sleep(0.5) # Pause de 1 seconde\n",
    "# Get the html code of the page in the variable html\n",
    "html = driver.page_source\n",
    "# Close the browser\n",
    "driver.quit()"
   ]
  },
  {
   "cell_type": "markdown",
   "metadata": {
    "pycharm": {
     "name": "#%% md\n"
    }
   },
   "source": [
    "### Getting the information of each film on the website Rotten Tomatoes\n",
    "\n",
    "We will use the library **BeautifulSoup** to get the information of each film. We will get the following information:\n",
    "\n",
    "- The title\n",
    "- The tomato\n",
    "- The audience\n",
    "- The rating\n",
    "- The genre\n",
    "- The original language\n",
    "- The director\n",
    "- The producer\n",
    "- The writer\n",
    "- The release date (theaters)\n",
    "- The release date (streaming)\n",
    "- The box office (gross USA)\n",
    "- The runtime\n",
    "- The distributor\n",
    "- The sound mix"
   ]
  },
  {
   "cell_type": "code",
   "execution_count": null,
   "metadata": {
    "pycharm": {
     "name": "#%%\n"
    }
   },
   "outputs": [],
   "source": [
    "# Function to get the information of each film\n",
    "# Input: the html code of the page\n",
    "# Output: a dictionary with the information of the film\n",
    "def get_info(soup):\n",
    "    # Find the list of information\n",
    "    list = soup.find(\"ul\", {\"id\" : \"info\"})\n",
    "    # Create a dictionary to store the information\n",
    "    film_details = {}\n",
    "    # Get the title of the film\n",
    "    title = soup.find(\"h1\", {\"data-qa\" : \"score-panel-movie-title\"}).text\n",
    "\n",
    "    film_details[\"title\"] = title\n",
    "\n",
    "\n",
    "    # Get the information of each category\n",
    "\n",
    "    for child in list.children:\n",
    "        # If the category is not empty\n",
    "        if child.find(\"b\") != -1 :\n",
    "            # Get the category name\n",
    "            category = child.find(\"b\").text\n",
    "            # Remove the \":\" at the end of the category\n",
    "            category = category.replace(':','')\n",
    "            # Get the value of the category\n",
    "            value = child.find(\"span\").text\n",
    "            # Remove the \"\\n\" and the \" \" in the value\n",
    "            value = value.strip().replace('\\n', '').replace(\" \",'').replace(\",\", ' ')\n",
    "            # Store the category and the value in the dictionary\n",
    "            film_details[category] = value\n",
    "    return film_details"
   ]
  },
  {
   "cell_type": "code",
   "execution_count": 3,
   "metadata": {
    "pycharm": {
     "name": "#%%\n"
    }
   },
   "outputs": [],
   "source": [
    "# Create a BeautifulSoup object from the html code of the page. This object will allow us to get the information of each film.\n",
    "soup = BeautifulSoup(html)"
   ]
  },
  {
   "cell_type": "code",
   "execution_count": 4,
   "metadata": {
    "pycharm": {
     "name": "#%%\n"
    }
   },
   "outputs": [],
   "source": [
    "# Find all the divs that contain the information of each film. Each div contains the information of one film.\n",
    "film_divs= soup.findAll(class_='js-tile-link')"
   ]
  },
  {
   "cell_type": "code",
   "execution_count": 5,
   "metadata": {
    "pycharm": {
     "name": "#%%\n"
    }
   },
   "outputs": [],
   "source": [
    "# Create a list to store the link of each film details.\n",
    "films_link = []\n",
    "for film in film_divs:\n",
    "    film_link = {}\n",
    "    # Get the link of the film details\n",
    "    link_div = (film.find('a', {\"data-track\" : \"scores\"}))\n",
    "    if link_div is not None:\n",
    "        # Get the tomato and the audience score\n",
    "        audiencescore = link_div.find(\"score-pairs\")[\"audiencescore\"]\n",
    "        tomatoescore = link_div.find(\"score-pairs\")[\"criticsscore\"]\n",
    "        # Store the link of the film details and the tomato and the audience score in the dictionary.\n",
    "        film_link[\"link\"] = link_div['href']\n",
    "        film_link[\"audiencescore\"] = audiencescore\n",
    "        film_link[\"tomatoescore\"]  = tomatoescore\n",
    "        films_link.append(film_link)"
   ]
  },
  {
   "cell_type": "code",
   "execution_count": 6,
   "metadata": {
    "pycharm": {
     "name": "#%%\n"
    }
   },
   "outputs": [],
   "source": [
    "# Base url of the website\n",
    "base_url = 'https://www.rottentomatoes.com'\n",
    "film_details_list = []\n",
    "number_film = 0\n",
    "for film_name in films_link:\n",
    "    print(number_film, \"/\", len(films_link))\n",
    "    # Get the url of the film details\n",
    "    url = base_url + film_name[\"link\"]\n",
    "    print(url)\n",
    "    # Get the html code of the page\n",
    "    response = requests.get(url)\n",
    "    if response.ok:\n",
    "        # Create a BeautifulSoup object from the html code of the page. This object will allow us to get the information of each film.\n",
    "        soup = BeautifulSoup(response.content)\n",
    "        # Get the information of the film. The function get_info is defined above. It returns a dictionary with the information of the film.\n",
    "        infos = get_info(soup)\n",
    "        # Add the tomato and the audience score to the dictionary.\n",
    "        infos[\"audiencescore\"] = film_name[\"audiencescore\"]\n",
    "        infos[\"tomatoescore\"] = film_name[\"tomatoescore\"]\n",
    "        # Add the dictionary to the list.\n",
    "        film_details_list.append(infos)\n",
    "    number_film += 1\n"
   ]
  },
  {
   "cell_type": "code",
   "execution_count": null,
   "metadata": {
    "pycharm": {
     "is_executing": true,
     "name": "#%%\n"
    }
   },
   "outputs": [],
   "source": [
    "# Create a dataframe from the list of dictionaries\n",
    "df = pd.DataFrame(data=film_details_list)\n",
    "# Drop the columns \"View the collection\" and \"Aspect Ratio\"\n",
    "df = df.drop([\"View the collection\", \"Aspect Ratio\"], axis=1)"
   ]
  },
  {
   "cell_type": "code",
   "execution_count": null,
   "metadata": {
    "pycharm": {
     "is_executing": true,
     "name": "#%%\n"
    }
   },
   "outputs": [],
   "source": [
    "# Reorder the columns of the dataframe.\n",
    "df = df[['title', 'tomatoescore','audiencescore','Rating', 'Genre', 'Original Language', 'Director', 'Producer',\n",
    "       'Writer', 'Release Date (Theaters)', 'Release Date (Streaming)',\n",
    "       'Box Office (Gross USA)', 'Runtime', 'Distributor', 'Sound Mix']]"
   ]
  },
  {
   "cell_type": "code",
   "execution_count": 11,
   "metadata": {
    "pycharm": {
     "name": "#%%\n"
    }
   },
   "outputs": [],
   "source": [
    "# Remove the NaN values, by replacing them with an empty string.\n",
    "df = df.fillna('')"
   ]
  },
  {
   "cell_type": "code",
   "execution_count": null,
   "metadata": {
    "pycharm": {
     "is_executing": true,
     "name": "#%%\n"
    }
   },
   "outputs": [],
   "source": [
    "# Transform the string of the columns Genre, Director, Producer and Writer into a list of strings. For example, the string \"Action, Adventure, Comedy\" will be transformed into the list [\"Action\", \"Adventure\", \"Comedy\"]\n",
    "df['Genre'] = df['Genre'].apply(lambda x: x.split())\n",
    "df['Director'] = df['Director'].apply(lambda x: x.split())\n",
    "df['Producer'] = df['Producer'].apply(lambda x: x.split())\n",
    "df['Writer'] = df['Writer'].apply(lambda x: x.split())\n"
   ]
  },
  {
   "cell_type": "code",
   "execution_count": 30,
   "metadata": {
    "pycharm": {
     "name": "#%%\n"
    }
   },
   "outputs": [
    {
     "data": {
      "text/plain": "                               title  tomatoescore  audiencescore  \\\n0  Everything Everywhere All at Once          94.0           86.0   \n1                       Cocaine Bear          68.0           71.0   \n2                          The Whale          64.0           91.0   \n3                   Boston Strangler          66.0           76.0   \n4            Dragged Across Concrete          76.0           69.0   \n5             Luther: The Fallen Sun          68.0           85.0   \n6                                RRR          95.0           94.0   \n7                          John Wick          86.0           81.0   \n8                            Shazam!          90.0           82.0   \n9          The Banshees of Inisherin          96.0           75.0   \n\n                                              Rating  \\\n0            R(SexualMaterial|Language|SomeViolence)   \n1  R(LanguageThroughout|DrugContent|BloodyViolenc...   \n2              R(SexualContent|Language|SomeDrugUse)   \n3                     R(Language|SomeViolentContent)   \n4  R(Language|GrislyImages|SomeSexuality/Nudity|S...   \n5  R(SomeSexualMaterial|Language|Disturbing/Viole...   \n6                                                NaN   \n7      R(Language|BriefDrugUse|StrongBloodyViolence)   \n8  PG-13(Language|IntenseSequencesofAction|Sugges...   \n9  R(LanguageThroughout|BriefGraphicNudity|SomeVi...   \n\n                                               Genre       Original Language  \\\n0  [\"['Comedy',\", \"'Adventure',\", \"'Sci-fi',\", \"'...                 English   \n1              [\"['Mystery&thriller',\", \"'Comedy']\"]                 English   \n2                                      [\"['Drama']\"]                 English   \n3                          [\"['Crime',\", \"'Drama']\"]                 English   \n4                          [\"['Crime',\", \"'Drama']\"]                 English   \n5   [\"['Crime',\", \"'Drama',\", \"'Mystery&thriller']\"]  English(UnitedKingdom)   \n6                         [\"['Action',\", \"'Drama']\"]                  Telugu   \n7              [\"['Action',\", \"'Mystery&thriller']\"]                 English   \n8  [\"['Action',\", \"'Adventure',\", \"'Comedy',\", \"'...                 English   \n9                                     [\"['Comedy']\"]                 English   \n\n                                Director  \\\n0  [\"['DanKwan',\", \"'DanielScheinert']\"]   \n1                 [\"['ElizabethBanks']\"]   \n2                [\"['DarrenAronofsky']\"]   \n3                     [\"['MattRuskin']\"]   \n4                  [\"['S.CraigZahler']\"]   \n5                     [\"['JamiePayne']\"]   \n6                  [\"['S.S.Rajamouli']\"]   \n7                  [\"['ChadStahelski']\"]   \n8                [\"['DavidF.Sandberg']\"]   \n9                 [\"['MartinMcDonagh']\"]   \n\n                                            Producer  \\\n0  [\"['JoeRusso',\", \"'AnthonyRusso',\", \"'MikeLaro...   \n1  [\"['PhilLord',\", \"'ChrisMiller',\", \"'Elizabeth...   \n2                                             ['[]']   \n3  [\"['TomAckerley',\", \"'JoseyMcNamara',\", \"'Mich...   \n4  [\"['KeithKjarval',\", \"'DallasSonnier',\", \"'Tyl...   \n5  [\"['PeterChernin',\", \"'NeilCross',\", \"'IdrisEl...   \n6                              [\"['D.V.V.Danayya']\"]   \n7  [\"['BasilIwanyk',\", \"'DavidLeitch',\", \"'EvaLon...   \n8                                [\"['PeterSafran']\"]   \n9  [\"['GrahamBroadbent',\", \"'PeterCzernin',\", \"'M...   \n\n                                       Writer Release Date (Theaters)  \\\n0       [\"['DanKwan',\", \"'DanielScheinert']\"]          Apr8 2022 wide   \n1                         [\"['JimmyWarden']\"]         Feb24 2023 wide   \n2                      [\"['SamuelD.Hunter']\"]         Dec21 2022 wide   \n3                          [\"['MattRuskin']\"]                     NaN   \n4                       [\"['S.CraigZahler']\"]      Mar22 2019 limited   \n5                           [\"['NeilCross']\"]      Feb24 2023 limited   \n6  [\"['S.S.Rajamouli',\", \"'SaiMadhavBurra']\"]         Mar25 2022 wide   \n7                        [\"['DerekKolstad']\"]         Oct24 2014 wide   \n8                         [\"['HenryGayden']\"]          Apr5 2019 wide   \n9                      [\"['MartinMcDonagh']\"]          Nov4 2022 wide   \n\n  Release Date (Streaming)  Box Office (Gross USA) Runtime  \\\n0                Jun7 2022              75000000.0   2h12m   \n1               Mar21 2023              58000000.0   1h35m   \n2               Feb21 2023              17000000.0   1h57m   \n3               Mar17 2023                     NaN   1h52m   \n4               Mar22 2019                     NaN   2h39m   \n5               Mar10 2023                     NaN    2h8m   \n6               May22 2022                596000.0    3h7m   \n7                Feb3 2015              43000000.0   1h41m   \n8                Jul2 2019             140000000.0   2h12m   \n9               Dec13 2022              10000000.0   1h49m   \n\n                          Distributor                        Sound Mix  \n0                                 A24                     DolbyDigital  \n1                   UniversalPictures                              NaN  \n2                                 A24                     DolbyDigital  \n3                                Hulu                     DolbyDigital  \n4  SummitEntertainment LionsgateFilms                     DolbyDigital  \n5                             Netflix                     DolbyDigital  \n6                     SarigamaCinemas                       DolbyAtmos  \n7                      LionsgateFilms  DolbyDigital DolbyAtmos Datasat  \n8                 WarnerBros.Pictures                       DolbyAtmos  \n9                 SearchlightPictures                     DolbyDigital  ",
      "text/html": "<div>\n<style scoped>\n    .dataframe tbody tr th:only-of-type {\n        vertical-align: middle;\n    }\n\n    .dataframe tbody tr th {\n        vertical-align: top;\n    }\n\n    .dataframe thead th {\n        text-align: right;\n    }\n</style>\n<table border=\"1\" class=\"dataframe\">\n  <thead>\n    <tr style=\"text-align: right;\">\n      <th></th>\n      <th>title</th>\n      <th>tomatoescore</th>\n      <th>audiencescore</th>\n      <th>Rating</th>\n      <th>Genre</th>\n      <th>Original Language</th>\n      <th>Director</th>\n      <th>Producer</th>\n      <th>Writer</th>\n      <th>Release Date (Theaters)</th>\n      <th>Release Date (Streaming)</th>\n      <th>Box Office (Gross USA)</th>\n      <th>Runtime</th>\n      <th>Distributor</th>\n      <th>Sound Mix</th>\n    </tr>\n  </thead>\n  <tbody>\n    <tr>\n      <th>0</th>\n      <td>Everything Everywhere All at Once</td>\n      <td>94.0</td>\n      <td>86.0</td>\n      <td>R(SexualMaterial|Language|SomeViolence)</td>\n      <td>[\"['Comedy',\", \"'Adventure',\", \"'Sci-fi',\", \"'...</td>\n      <td>English</td>\n      <td>[\"['DanKwan',\", \"'DanielScheinert']\"]</td>\n      <td>[\"['JoeRusso',\", \"'AnthonyRusso',\", \"'MikeLaro...</td>\n      <td>[\"['DanKwan',\", \"'DanielScheinert']\"]</td>\n      <td>Apr8 2022 wide</td>\n      <td>Jun7 2022</td>\n      <td>75000000.0</td>\n      <td>2h12m</td>\n      <td>A24</td>\n      <td>DolbyDigital</td>\n    </tr>\n    <tr>\n      <th>1</th>\n      <td>Cocaine Bear</td>\n      <td>68.0</td>\n      <td>71.0</td>\n      <td>R(LanguageThroughout|DrugContent|BloodyViolenc...</td>\n      <td>[\"['Mystery&amp;thriller',\", \"'Comedy']\"]</td>\n      <td>English</td>\n      <td>[\"['ElizabethBanks']\"]</td>\n      <td>[\"['PhilLord',\", \"'ChrisMiller',\", \"'Elizabeth...</td>\n      <td>[\"['JimmyWarden']\"]</td>\n      <td>Feb24 2023 wide</td>\n      <td>Mar21 2023</td>\n      <td>58000000.0</td>\n      <td>1h35m</td>\n      <td>UniversalPictures</td>\n      <td>NaN</td>\n    </tr>\n    <tr>\n      <th>2</th>\n      <td>The Whale</td>\n      <td>64.0</td>\n      <td>91.0</td>\n      <td>R(SexualContent|Language|SomeDrugUse)</td>\n      <td>[\"['Drama']\"]</td>\n      <td>English</td>\n      <td>[\"['DarrenAronofsky']\"]</td>\n      <td>['[]']</td>\n      <td>[\"['SamuelD.Hunter']\"]</td>\n      <td>Dec21 2022 wide</td>\n      <td>Feb21 2023</td>\n      <td>17000000.0</td>\n      <td>1h57m</td>\n      <td>A24</td>\n      <td>DolbyDigital</td>\n    </tr>\n    <tr>\n      <th>3</th>\n      <td>Boston Strangler</td>\n      <td>66.0</td>\n      <td>76.0</td>\n      <td>R(Language|SomeViolentContent)</td>\n      <td>[\"['Crime',\", \"'Drama']\"]</td>\n      <td>English</td>\n      <td>[\"['MattRuskin']\"]</td>\n      <td>[\"['TomAckerley',\", \"'JoseyMcNamara',\", \"'Mich...</td>\n      <td>[\"['MattRuskin']\"]</td>\n      <td>NaN</td>\n      <td>Mar17 2023</td>\n      <td>NaN</td>\n      <td>1h52m</td>\n      <td>Hulu</td>\n      <td>DolbyDigital</td>\n    </tr>\n    <tr>\n      <th>4</th>\n      <td>Dragged Across Concrete</td>\n      <td>76.0</td>\n      <td>69.0</td>\n      <td>R(Language|GrislyImages|SomeSexuality/Nudity|S...</td>\n      <td>[\"['Crime',\", \"'Drama']\"]</td>\n      <td>English</td>\n      <td>[\"['S.CraigZahler']\"]</td>\n      <td>[\"['KeithKjarval',\", \"'DallasSonnier',\", \"'Tyl...</td>\n      <td>[\"['S.CraigZahler']\"]</td>\n      <td>Mar22 2019 limited</td>\n      <td>Mar22 2019</td>\n      <td>NaN</td>\n      <td>2h39m</td>\n      <td>SummitEntertainment LionsgateFilms</td>\n      <td>DolbyDigital</td>\n    </tr>\n    <tr>\n      <th>5</th>\n      <td>Luther: The Fallen Sun</td>\n      <td>68.0</td>\n      <td>85.0</td>\n      <td>R(SomeSexualMaterial|Language|Disturbing/Viole...</td>\n      <td>[\"['Crime',\", \"'Drama',\", \"'Mystery&amp;thriller']\"]</td>\n      <td>English(UnitedKingdom)</td>\n      <td>[\"['JamiePayne']\"]</td>\n      <td>[\"['PeterChernin',\", \"'NeilCross',\", \"'IdrisEl...</td>\n      <td>[\"['NeilCross']\"]</td>\n      <td>Feb24 2023 limited</td>\n      <td>Mar10 2023</td>\n      <td>NaN</td>\n      <td>2h8m</td>\n      <td>Netflix</td>\n      <td>DolbyDigital</td>\n    </tr>\n    <tr>\n      <th>6</th>\n      <td>RRR</td>\n      <td>95.0</td>\n      <td>94.0</td>\n      <td>NaN</td>\n      <td>[\"['Action',\", \"'Drama']\"]</td>\n      <td>Telugu</td>\n      <td>[\"['S.S.Rajamouli']\"]</td>\n      <td>[\"['D.V.V.Danayya']\"]</td>\n      <td>[\"['S.S.Rajamouli',\", \"'SaiMadhavBurra']\"]</td>\n      <td>Mar25 2022 wide</td>\n      <td>May22 2022</td>\n      <td>596000.0</td>\n      <td>3h7m</td>\n      <td>SarigamaCinemas</td>\n      <td>DolbyAtmos</td>\n    </tr>\n    <tr>\n      <th>7</th>\n      <td>John Wick</td>\n      <td>86.0</td>\n      <td>81.0</td>\n      <td>R(Language|BriefDrugUse|StrongBloodyViolence)</td>\n      <td>[\"['Action',\", \"'Mystery&amp;thriller']\"]</td>\n      <td>English</td>\n      <td>[\"['ChadStahelski']\"]</td>\n      <td>[\"['BasilIwanyk',\", \"'DavidLeitch',\", \"'EvaLon...</td>\n      <td>[\"['DerekKolstad']\"]</td>\n      <td>Oct24 2014 wide</td>\n      <td>Feb3 2015</td>\n      <td>43000000.0</td>\n      <td>1h41m</td>\n      <td>LionsgateFilms</td>\n      <td>DolbyDigital DolbyAtmos Datasat</td>\n    </tr>\n    <tr>\n      <th>8</th>\n      <td>Shazam!</td>\n      <td>90.0</td>\n      <td>82.0</td>\n      <td>PG-13(Language|IntenseSequencesofAction|Sugges...</td>\n      <td>[\"['Action',\", \"'Adventure',\", \"'Comedy',\", \"'...</td>\n      <td>English</td>\n      <td>[\"['DavidF.Sandberg']\"]</td>\n      <td>[\"['PeterSafran']\"]</td>\n      <td>[\"['HenryGayden']\"]</td>\n      <td>Apr5 2019 wide</td>\n      <td>Jul2 2019</td>\n      <td>140000000.0</td>\n      <td>2h12m</td>\n      <td>WarnerBros.Pictures</td>\n      <td>DolbyAtmos</td>\n    </tr>\n    <tr>\n      <th>9</th>\n      <td>The Banshees of Inisherin</td>\n      <td>96.0</td>\n      <td>75.0</td>\n      <td>R(LanguageThroughout|BriefGraphicNudity|SomeVi...</td>\n      <td>[\"['Comedy']\"]</td>\n      <td>English</td>\n      <td>[\"['MartinMcDonagh']\"]</td>\n      <td>[\"['GrahamBroadbent',\", \"'PeterCzernin',\", \"'M...</td>\n      <td>[\"['MartinMcDonagh']\"]</td>\n      <td>Nov4 2022 wide</td>\n      <td>Dec13 2022</td>\n      <td>10000000.0</td>\n      <td>1h49m</td>\n      <td>SearchlightPictures</td>\n      <td>DolbyDigital</td>\n    </tr>\n  </tbody>\n</table>\n</div>"
     },
     "execution_count": 30,
     "metadata": {},
     "output_type": "execute_result"
    }
   ],
   "source": [
    "df.head(10)"
   ]
  },
  {
   "cell_type": "code",
   "execution_count": 14,
   "metadata": {
    "pycharm": {
     "name": "#%%\n"
    }
   },
   "outputs": [],
   "source": [
    "# Save the dataframe in a csv file\n",
    "#df.to_csv(\"FilmCSV.csv\")"
   ]
  },
  {
   "cell_type": "markdown",
   "metadata": {
    "pycharm": {
     "name": "#%% md\n"
    }
   },
   "source": [
    "## Data cleaning\n",
    "\n",
    "Once we have the data, we need to clean it."
   ]
  },
  {
   "cell_type": "code",
   "execution_count": 19,
   "metadata": {
    "pycharm": {
     "name": "#%%\n"
    }
   },
   "outputs": [],
   "source": [
    "import pandas as pd\n",
    "# Read the csv file that contains the data. The file is in the same folder as the notebook.\n",
    "df = pd.read_csv(\"FilmCSV.csv\")"
   ]
  },
  {
   "cell_type": "code",
   "execution_count": 20,
   "metadata": {
    "pycharm": {
     "name": "#%%\n"
    }
   },
   "outputs": [],
   "source": [
    "# Remove the column Unnamed: 0. It is not useful.\n",
    "df.drop(\"Unnamed: 0\", axis=1, inplace=True)"
   ]
  },
  {
   "cell_type": "code",
   "execution_count": null,
   "metadata": {
    "pycharm": {
     "name": "#%%\n",
     "is_executing": true
    }
   },
   "outputs": [],
   "source": [
    "df"
   ]
  },
  {
   "cell_type": "code",
   "execution_count": 22,
   "metadata": {
    "pycharm": {
     "name": "#%%\n"
    }
   },
   "outputs": [],
   "source": [
    "# This function converts the string of the column Box Office (Gross USA) into a float. For example, the string \"$1.2M\" will be converted into the float 1200000.0, and the string \"$1.2K\" will be converted into the float 1200.0.\n",
    "\n",
    "def convert_value(value):\n",
    "    #check if the value is not nan\n",
    "    if type(value) == float:\n",
    "        return value\n",
    "    print(value)\n",
    "    if value[-1] == 'K':\n",
    "        return float(value[1:-1]) * 1000\n",
    "    elif value[-1] == 'M':\n",
    "        return float(value[1:-1]) * 1000000\n",
    "    else:\n",
    "        return float(value[1:])\n",
    "\n",
    "# apply the function to the column Box Office (Gross USA)\n",
    "df['Box Office (Gross USA)'] = df['Box Office (Gross USA)'].apply(convert_value)"
   ]
  },
  {
   "cell_type": "code",
   "execution_count": 23,
   "metadata": {
    "pycharm": {
     "name": "#%%\n"
    }
   },
   "outputs": [],
   "source": [
    "# Most expensive movies\n",
    "df_expensive = df.sort_values(by=\"Box Office (Gross USA)\", ascending=False)\n",
    "#Remove the rows Box Office (Gross USA) with the value nan\n",
    "df_expensive = df_expensive[df_expensive['Box Office (Gross USA)'].notna()]"
   ]
  },
  {
   "cell_type": "code",
   "execution_count": 27,
   "metadata": {
    "pycharm": {
     "name": "#%%\n"
    }
   },
   "outputs": [
    {
     "data": {
      "text/html": [
       "<div>\n",
       "<style scoped>\n",
       "    .dataframe tbody tr th:only-of-type {\n",
       "        vertical-align: middle;\n",
       "    }\n",
       "\n",
       "    .dataframe tbody tr th {\n",
       "        vertical-align: top;\n",
       "    }\n",
       "\n",
       "    .dataframe thead th {\n",
       "        text-align: right;\n",
       "    }\n",
       "</style>\n",
       "<table border=\"1\" class=\"dataframe\">\n",
       "  <thead>\n",
       "    <tr style=\"text-align: right;\">\n",
       "      <th></th>\n",
       "      <th>title</th>\n",
       "      <th>tomatoescore</th>\n",
       "      <th>audiencescore</th>\n",
       "      <th>Rating</th>\n",
       "      <th>Genre</th>\n",
       "      <th>Original Language</th>\n",
       "      <th>Director</th>\n",
       "      <th>Producer</th>\n",
       "      <th>Writer</th>\n",
       "      <th>Release Date (Theaters)</th>\n",
       "      <th>Release Date (Streaming)</th>\n",
       "      <th>Box Office (Gross USA)</th>\n",
       "      <th>Runtime</th>\n",
       "      <th>Distributor</th>\n",
       "      <th>Sound Mix</th>\n",
       "    </tr>\n",
       "  </thead>\n",
       "  <tbody>\n",
       "    <tr>\n",
       "      <th>71</th>\n",
       "      <td>Avengers: Endgame</td>\n",
       "      <td>94.0</td>\n",
       "      <td>90.0</td>\n",
       "      <td>PG-13(SequencesofSci-FiViolence|Action|SomeLan...</td>\n",
       "      <td>[\"['Action',\", \"'Adventure',\", \"'Fantasy',\", \"...</td>\n",
       "      <td>English</td>\n",
       "      <td>[\"['AnthonyRusso',\", \"'JoeRusso']\"]</td>\n",
       "      <td>[\"['KevinFeige']\"]</td>\n",
       "      <td>[\"['ChristopherMarkus',\", \"'StephenMcFeely']\"]</td>\n",
       "      <td>Apr26 2019 wide</td>\n",
       "      <td>Jul30 2019</td>\n",
       "      <td>858000000.0</td>\n",
       "      <td>3h1m</td>\n",
       "      <td>WaltDisney</td>\n",
       "      <td>DolbyAtmos DTS SDDS DolbyDigital</td>\n",
       "    </tr>\n",
       "    <tr>\n",
       "      <th>34</th>\n",
       "      <td>Top Gun: Maverick</td>\n",
       "      <td>96.0</td>\n",
       "      <td>99.0</td>\n",
       "      <td>PG-13(SomeStrongLanguage|SequencesofIntenseAct...</td>\n",
       "      <td>[\"['Action',\", \"'Adventure']\"]</td>\n",
       "      <td>English</td>\n",
       "      <td>[\"['JosephKosinski']\"]</td>\n",
       "      <td>[\"['JerryBruckheimer',\", \"'TomCruise',\", \"'Dav...</td>\n",
       "      <td>[\"['EhrenKruger',\", \"'EricWarrenSinger',\", \"'C...</td>\n",
       "      <td>May27 2022 wide</td>\n",
       "      <td>Aug22 2022</td>\n",
       "      <td>718000000.0</td>\n",
       "      <td>2h11m</td>\n",
       "      <td>ParamountPictures</td>\n",
       "      <td>DolbyAtmos</td>\n",
       "    </tr>\n",
       "    <tr>\n",
       "      <th>440</th>\n",
       "      <td>Confess, Fletch</td>\n",
       "      <td>86.0</td>\n",
       "      <td>75.0</td>\n",
       "      <td>R(SomeSexualContent|Language|DrugUse)</td>\n",
       "      <td>[\"['Comedy',\", \"'Mystery&amp;thriller']\"]</td>\n",
       "      <td>English</td>\n",
       "      <td>[\"['GregMottola']\"]</td>\n",
       "      <td>[\"['BillBlock',\", \"'JonHamm',\", \"'ConnieTavel']\"]</td>\n",
       "      <td>[\"['GregMottola',\", \"'ZevBorow']\"]</td>\n",
       "      <td>Sep16 2022 wide</td>\n",
       "      <td>Sep16 2022</td>\n",
       "      <td>711000000.0</td>\n",
       "      <td>1h38m</td>\n",
       "      <td>MiramaxFilms</td>\n",
       "      <td>NaN</td>\n",
       "    </tr>\n",
       "    <tr>\n",
       "      <th>161</th>\n",
       "      <td>Black Panther</td>\n",
       "      <td>96.0</td>\n",
       "      <td>79.0</td>\n",
       "      <td>PG-13(SequencesofActionViolence|ABriefRudeGest...</td>\n",
       "      <td>[\"['Action',\", \"'Adventure',\", \"'Fantasy']\"]</td>\n",
       "      <td>English</td>\n",
       "      <td>[\"['RyanCoogler']\"]</td>\n",
       "      <td>[\"['KevinFeige']\"]</td>\n",
       "      <td>[\"['RyanCoogler',\", \"'JoeRobertCole']\"]</td>\n",
       "      <td>Feb16 2018 wide</td>\n",
       "      <td>May2 2018</td>\n",
       "      <td>700000000.0</td>\n",
       "      <td>2h14m</td>\n",
       "      <td>WaltDisney</td>\n",
       "      <td>DTS DolbyAtmos</td>\n",
       "    </tr>\n",
       "    <tr>\n",
       "      <th>141</th>\n",
       "      <td>Avengers: Infinity War</td>\n",
       "      <td>85.0</td>\n",
       "      <td>92.0</td>\n",
       "      <td>PG-13(IntenseSci-FiViolence|ActionThroughout|L...</td>\n",
       "      <td>[\"['Action',\", \"'Adventure',\", \"'Fantasy',\", \"...</td>\n",
       "      <td>English</td>\n",
       "      <td>[\"['AnthonyRusso',\", \"'JoeRusso']\"]</td>\n",
       "      <td>[\"['KevinFeige']\"]</td>\n",
       "      <td>[\"['ChristopherMarkus',\", \"'StephenMcFeely']\"]</td>\n",
       "      <td>Apr27 2018 wide</td>\n",
       "      <td>Aug14 2018</td>\n",
       "      <td>678000000.0</td>\n",
       "      <td>2h29m</td>\n",
       "      <td>WaltDisney</td>\n",
       "      <td>DolbyAtmos DolbyDigital DTS</td>\n",
       "    </tr>\n",
       "    <tr>\n",
       "      <th>162</th>\n",
       "      <td>Titanic</td>\n",
       "      <td>88.0</td>\n",
       "      <td>69.0</td>\n",
       "      <td>PG-13(DisasterRelatedPeril|BriefLanguage|Nudit...</td>\n",
       "      <td>[\"['History',\", \"'Drama',\", \"'Romance']\"]</td>\n",
       "      <td>English</td>\n",
       "      <td>[\"['JamesCameron']\"]</td>\n",
       "      <td>[\"['JamesCameron',\", \"'JonLandau']\"]</td>\n",
       "      <td>[\"['JamesCameron']\"]</td>\n",
       "      <td>Dec19 1997 wide</td>\n",
       "      <td>Jan8 2002</td>\n",
       "      <td>658000000.0</td>\n",
       "      <td>3h15m</td>\n",
       "      <td>20thCenturyFox ParamountPictures</td>\n",
       "      <td>DolbyDigital DolbySR DolbyStereo Surround DTS ...</td>\n",
       "    </tr>\n",
       "    <tr>\n",
       "      <th>111</th>\n",
       "      <td>Star Wars: The Last Jedi</td>\n",
       "      <td>91.0</td>\n",
       "      <td>42.0</td>\n",
       "      <td>PG-13(Violence|SequencesofSci-FiAction)</td>\n",
       "      <td>[\"['Sci-fi',\", \"'Adventure',\", \"'Action',\", \"'...</td>\n",
       "      <td>English</td>\n",
       "      <td>[\"['RianJohnson']\"]</td>\n",
       "      <td>[\"['KathleenKennedy',\", \"'RamBergman']\"]</td>\n",
       "      <td>[\"['RianJohnson']\"]</td>\n",
       "      <td>Dec15 2017 wide</td>\n",
       "      <td>Mar27 2018</td>\n",
       "      <td>620000000.0</td>\n",
       "      <td>2h32m</td>\n",
       "      <td>WaltDisney</td>\n",
       "      <td>DolbyDigital DolbyAtmos DTS</td>\n",
       "    </tr>\n",
       "    <tr>\n",
       "      <th>258</th>\n",
       "      <td>The Lion King</td>\n",
       "      <td>52.0</td>\n",
       "      <td>88.0</td>\n",
       "      <td>PG(SequencesofViolence|Peril|SomeThematicEleme...</td>\n",
       "      <td>[\"['Kids&amp;family',\", \"'Adventure',\", \"'Drama']\"]</td>\n",
       "      <td>English</td>\n",
       "      <td>[\"['JonFavreau']\"]</td>\n",
       "      <td>[\"['JonFavreau',\", \"'JeffreySilver',\", \"'Karen...</td>\n",
       "      <td>[\"['JeffNathanson']\"]</td>\n",
       "      <td>Jul19 2019 wide</td>\n",
       "      <td>Aug27 2019</td>\n",
       "      <td>543000000.0</td>\n",
       "      <td>1h58m</td>\n",
       "      <td>WaltDisney</td>\n",
       "      <td>DTS DolbyDigital DolbyAtmos</td>\n",
       "    </tr>\n",
       "    <tr>\n",
       "      <th>345</th>\n",
       "      <td>Rogue One: A Star Wars Story</td>\n",
       "      <td>84.0</td>\n",
       "      <td>87.0</td>\n",
       "      <td>PG-13(Sci-FiViolenceandAction)</td>\n",
       "      <td>[\"['Sci-fi',\", \"'Adventure',\", \"'Action',\", \"'...</td>\n",
       "      <td>English</td>\n",
       "      <td>[\"['GarethEdwards']\"]</td>\n",
       "      <td>[\"['KathleenKennedy',\", \"'AllisonShearmur',\", ...</td>\n",
       "      <td>[\"['ChrisWeitz',\", \"'TonyGilroy']\"]</td>\n",
       "      <td>Dec16 2016 wide</td>\n",
       "      <td>Apr4 2017</td>\n",
       "      <td>533000000.0</td>\n",
       "      <td>2h14m</td>\n",
       "      <td>WaltDisney</td>\n",
       "      <td>DolbyDigital DolbyAtmos</td>\n",
       "    </tr>\n",
       "    <tr>\n",
       "      <th>109</th>\n",
       "      <td>Star Wars: The Rise of Skywalker</td>\n",
       "      <td>52.0</td>\n",
       "      <td>86.0</td>\n",
       "      <td>PG-13(Sci-FiViolenceandAction)</td>\n",
       "      <td>[\"['Sci-fi',\", \"'Adventure',\", \"'Action',\", \"'...</td>\n",
       "      <td>English</td>\n",
       "      <td>[\"['J.J.Abrams']\"]</td>\n",
       "      <td>[\"['KathleenKennedy',\", \"'J.J.Abrams',\", \"'Mic...</td>\n",
       "      <td>[\"['ChrisTerrio',\", \"'J.J.Abrams']\"]</td>\n",
       "      <td>Dec20 2019 wide</td>\n",
       "      <td>Dec20 2019</td>\n",
       "      <td>515000000.0</td>\n",
       "      <td>2h22m</td>\n",
       "      <td>WaltDisney</td>\n",
       "      <td>DolbyAtmos DolbyDigital DTS</td>\n",
       "    </tr>\n",
       "  </tbody>\n",
       "</table>\n",
       "</div>"
      ],
      "text/plain": [
       "                                title  tomatoescore  audiencescore  \\\n",
       "71                  Avengers: Endgame          94.0           90.0   \n",
       "34                  Top Gun: Maverick          96.0           99.0   \n",
       "440                   Confess, Fletch          86.0           75.0   \n",
       "161                     Black Panther          96.0           79.0   \n",
       "141            Avengers: Infinity War          85.0           92.0   \n",
       "162                           Titanic          88.0           69.0   \n",
       "111          Star Wars: The Last Jedi          91.0           42.0   \n",
       "258                     The Lion King          52.0           88.0   \n",
       "345      Rogue One: A Star Wars Story          84.0           87.0   \n",
       "109  Star Wars: The Rise of Skywalker          52.0           86.0   \n",
       "\n",
       "                                                Rating  \\\n",
       "71   PG-13(SequencesofSci-FiViolence|Action|SomeLan...   \n",
       "34   PG-13(SomeStrongLanguage|SequencesofIntenseAct...   \n",
       "440              R(SomeSexualContent|Language|DrugUse)   \n",
       "161  PG-13(SequencesofActionViolence|ABriefRudeGest...   \n",
       "141  PG-13(IntenseSci-FiViolence|ActionThroughout|L...   \n",
       "162  PG-13(DisasterRelatedPeril|BriefLanguage|Nudit...   \n",
       "111            PG-13(Violence|SequencesofSci-FiAction)   \n",
       "258  PG(SequencesofViolence|Peril|SomeThematicEleme...   \n",
       "345                     PG-13(Sci-FiViolenceandAction)   \n",
       "109                     PG-13(Sci-FiViolenceandAction)   \n",
       "\n",
       "                                                 Genre Original Language  \\\n",
       "71   [\"['Action',\", \"'Adventure',\", \"'Fantasy',\", \"...           English   \n",
       "34                      [\"['Action',\", \"'Adventure']\"]           English   \n",
       "440              [\"['Comedy',\", \"'Mystery&thriller']\"]           English   \n",
       "161       [\"['Action',\", \"'Adventure',\", \"'Fantasy']\"]           English   \n",
       "141  [\"['Action',\", \"'Adventure',\", \"'Fantasy',\", \"...           English   \n",
       "162          [\"['History',\", \"'Drama',\", \"'Romance']\"]           English   \n",
       "111  [\"['Sci-fi',\", \"'Adventure',\", \"'Action',\", \"'...           English   \n",
       "258    [\"['Kids&family',\", \"'Adventure',\", \"'Drama']\"]           English   \n",
       "345  [\"['Sci-fi',\", \"'Adventure',\", \"'Action',\", \"'...           English   \n",
       "109  [\"['Sci-fi',\", \"'Adventure',\", \"'Action',\", \"'...           English   \n",
       "\n",
       "                                Director  \\\n",
       "71   [\"['AnthonyRusso',\", \"'JoeRusso']\"]   \n",
       "34                [\"['JosephKosinski']\"]   \n",
       "440                  [\"['GregMottola']\"]   \n",
       "161                  [\"['RyanCoogler']\"]   \n",
       "141  [\"['AnthonyRusso',\", \"'JoeRusso']\"]   \n",
       "162                 [\"['JamesCameron']\"]   \n",
       "111                  [\"['RianJohnson']\"]   \n",
       "258                   [\"['JonFavreau']\"]   \n",
       "345                [\"['GarethEdwards']\"]   \n",
       "109                   [\"['J.J.Abrams']\"]   \n",
       "\n",
       "                                              Producer  \\\n",
       "71                                  [\"['KevinFeige']\"]   \n",
       "34   [\"['JerryBruckheimer',\", \"'TomCruise',\", \"'Dav...   \n",
       "440  [\"['BillBlock',\", \"'JonHamm',\", \"'ConnieTavel']\"]   \n",
       "161                                 [\"['KevinFeige']\"]   \n",
       "141                                 [\"['KevinFeige']\"]   \n",
       "162               [\"['JamesCameron',\", \"'JonLandau']\"]   \n",
       "111           [\"['KathleenKennedy',\", \"'RamBergman']\"]   \n",
       "258  [\"['JonFavreau',\", \"'JeffreySilver',\", \"'Karen...   \n",
       "345  [\"['KathleenKennedy',\", \"'AllisonShearmur',\", ...   \n",
       "109  [\"['KathleenKennedy',\", \"'J.J.Abrams',\", \"'Mic...   \n",
       "\n",
       "                                                Writer  \\\n",
       "71      [\"['ChristopherMarkus',\", \"'StephenMcFeely']\"]   \n",
       "34   [\"['EhrenKruger',\", \"'EricWarrenSinger',\", \"'C...   \n",
       "440                 [\"['GregMottola',\", \"'ZevBorow']\"]   \n",
       "161            [\"['RyanCoogler',\", \"'JoeRobertCole']\"]   \n",
       "141     [\"['ChristopherMarkus',\", \"'StephenMcFeely']\"]   \n",
       "162                               [\"['JamesCameron']\"]   \n",
       "111                                [\"['RianJohnson']\"]   \n",
       "258                              [\"['JeffNathanson']\"]   \n",
       "345                [\"['ChrisWeitz',\", \"'TonyGilroy']\"]   \n",
       "109               [\"['ChrisTerrio',\", \"'J.J.Abrams']\"]   \n",
       "\n",
       "    Release Date (Theaters) Release Date (Streaming)  Box Office (Gross USA)  \\\n",
       "71          Apr26 2019 wide               Jul30 2019             858000000.0   \n",
       "34          May27 2022 wide               Aug22 2022             718000000.0   \n",
       "440         Sep16 2022 wide               Sep16 2022             711000000.0   \n",
       "161         Feb16 2018 wide                May2 2018             700000000.0   \n",
       "141         Apr27 2018 wide               Aug14 2018             678000000.0   \n",
       "162         Dec19 1997 wide                Jan8 2002             658000000.0   \n",
       "111         Dec15 2017 wide               Mar27 2018             620000000.0   \n",
       "258         Jul19 2019 wide               Aug27 2019             543000000.0   \n",
       "345         Dec16 2016 wide                Apr4 2017             533000000.0   \n",
       "109         Dec20 2019 wide               Dec20 2019             515000000.0   \n",
       "\n",
       "    Runtime                       Distributor  \\\n",
       "71     3h1m                        WaltDisney   \n",
       "34    2h11m                 ParamountPictures   \n",
       "440   1h38m                      MiramaxFilms   \n",
       "161   2h14m                        WaltDisney   \n",
       "141   2h29m                        WaltDisney   \n",
       "162   3h15m  20thCenturyFox ParamountPictures   \n",
       "111   2h32m                        WaltDisney   \n",
       "258   1h58m                        WaltDisney   \n",
       "345   2h14m                        WaltDisney   \n",
       "109   2h22m                        WaltDisney   \n",
       "\n",
       "                                             Sound Mix  \n",
       "71                    DolbyAtmos DTS SDDS DolbyDigital  \n",
       "34                                          DolbyAtmos  \n",
       "440                                                NaN  \n",
       "161                                     DTS DolbyAtmos  \n",
       "141                        DolbyAtmos DolbyDigital DTS  \n",
       "162  DolbyDigital DolbySR DolbyStereo Surround DTS ...  \n",
       "111                        DolbyDigital DolbyAtmos DTS  \n",
       "258                        DTS DolbyDigital DolbyAtmos  \n",
       "345                            DolbyDigital DolbyAtmos  \n",
       "109                        DolbyAtmos DolbyDigital DTS  "
      ]
     },
     "execution_count": 27,
     "metadata": {},
     "output_type": "execute_result"
    }
   ],
   "source": [
    "df_expensive.head(10)"
   ]
  },
  {
   "cell_type": "code",
   "execution_count": null,
   "outputs": [],
   "source": [
    "df.drop(\"Unnamed: 0\", axis=1, inplace=True)"
   ],
   "metadata": {
    "collapsed": false,
    "pycharm": {
     "name": "#%%\n"
    }
   }
  },
  {
   "cell_type": "code",
   "execution_count": 36,
   "outputs": [],
   "source": [
    "\n",
    "def convert_value(value):\n",
    "    #check if the value is not nan\n",
    "    if type(value) == float:\n",
    "        return value\n",
    "    print(value)\n",
    "    if value[-1] == 'K':\n",
    "        return float(value[1:-1]) * 1000\n",
    "    elif value[-1] == 'M':\n",
    "        return float(value[1:-1]) * 1000000\n",
    "    else:\n",
    "        return float(value[1:])\n",
    "\n",
    "# apply the function to the column Box Office (Gross USA)\n",
    "df['Box Office (Gross USA)'] = df['Box Office (Gross USA)'].apply(convert_value)"
   ],
   "metadata": {
    "collapsed": false,
    "pycharm": {
     "name": "#%%\n"
    }
   }
  },
  {
   "cell_type": "code",
   "execution_count": 37,
   "outputs": [],
   "source": [
    "# Most expensive movies\n",
    "df_expensive = df.sort_values(by=\"Box Office (Gross USA)\", ascending=False)\n",
    "#Remove the rows Box Office (Gross USA) with the value nan\n",
    "df_expensive = df_expensive[df_expensive['Box Office (Gross USA)'].notna()]"
   ],
   "metadata": {
    "collapsed": false,
    "pycharm": {
     "name": "#%%\n"
    }
   }
  },
  {
   "cell_type": "code",
   "execution_count": 38,
   "outputs": [
    {
     "data": {
      "text/plain": "                                title  tomatoescore  audiencescore  \\\n71                  Avengers: Endgame          94.0           90.0   \n34                  Top Gun: Maverick          96.0           99.0   \n440                   Confess, Fletch          86.0           75.0   \n161                     Black Panther          96.0           79.0   \n141            Avengers: Infinity War          85.0           92.0   \n162                           Titanic          88.0           69.0   \n111          Star Wars: The Last Jedi          91.0           42.0   \n258                     The Lion King          52.0           88.0   \n345      Rogue One: A Star Wars Story          84.0           87.0   \n109  Star Wars: The Rise of Skywalker          52.0           86.0   \n\n                                                Rating  \\\n71   PG-13(SequencesofSci-FiViolence|Action|SomeLan...   \n34   PG-13(SomeStrongLanguage|SequencesofIntenseAct...   \n440              R(SomeSexualContent|Language|DrugUse)   \n161  PG-13(SequencesofActionViolence|ABriefRudeGest...   \n141  PG-13(IntenseSci-FiViolence|ActionThroughout|L...   \n162  PG-13(DisasterRelatedPeril|BriefLanguage|Nudit...   \n111            PG-13(Violence|SequencesofSci-FiAction)   \n258  PG(SequencesofViolence|Peril|SomeThematicEleme...   \n345                     PG-13(Sci-FiViolenceandAction)   \n109                     PG-13(Sci-FiViolenceandAction)   \n\n                                                 Genre Original Language  \\\n71   [\"['Action',\", \"'Adventure',\", \"'Fantasy',\", \"...           English   \n34                      [\"['Action',\", \"'Adventure']\"]           English   \n440              [\"['Comedy',\", \"'Mystery&thriller']\"]           English   \n161       [\"['Action',\", \"'Adventure',\", \"'Fantasy']\"]           English   \n141  [\"['Action',\", \"'Adventure',\", \"'Fantasy',\", \"...           English   \n162          [\"['History',\", \"'Drama',\", \"'Romance']\"]           English   \n111  [\"['Sci-fi',\", \"'Adventure',\", \"'Action',\", \"'...           English   \n258    [\"['Kids&family',\", \"'Adventure',\", \"'Drama']\"]           English   \n345  [\"['Sci-fi',\", \"'Adventure',\", \"'Action',\", \"'...           English   \n109  [\"['Sci-fi',\", \"'Adventure',\", \"'Action',\", \"'...           English   \n\n                                Director  \\\n71   [\"['AnthonyRusso',\", \"'JoeRusso']\"]   \n34                [\"['JosephKosinski']\"]   \n440                  [\"['GregMottola']\"]   \n161                  [\"['RyanCoogler']\"]   \n141  [\"['AnthonyRusso',\", \"'JoeRusso']\"]   \n162                 [\"['JamesCameron']\"]   \n111                  [\"['RianJohnson']\"]   \n258                   [\"['JonFavreau']\"]   \n345                [\"['GarethEdwards']\"]   \n109                   [\"['J.J.Abrams']\"]   \n\n                                              Producer  \\\n71                                  [\"['KevinFeige']\"]   \n34   [\"['JerryBruckheimer',\", \"'TomCruise',\", \"'Dav...   \n440  [\"['BillBlock',\", \"'JonHamm',\", \"'ConnieTavel']\"]   \n161                                 [\"['KevinFeige']\"]   \n141                                 [\"['KevinFeige']\"]   \n162               [\"['JamesCameron',\", \"'JonLandau']\"]   \n111           [\"['KathleenKennedy',\", \"'RamBergman']\"]   \n258  [\"['JonFavreau',\", \"'JeffreySilver',\", \"'Karen...   \n345  [\"['KathleenKennedy',\", \"'AllisonShearmur',\", ...   \n109  [\"['KathleenKennedy',\", \"'J.J.Abrams',\", \"'Mic...   \n\n                                                Writer  \\\n71      [\"['ChristopherMarkus',\", \"'StephenMcFeely']\"]   \n34   [\"['EhrenKruger',\", \"'EricWarrenSinger',\", \"'C...   \n440                 [\"['GregMottola',\", \"'ZevBorow']\"]   \n161            [\"['RyanCoogler',\", \"'JoeRobertCole']\"]   \n141     [\"['ChristopherMarkus',\", \"'StephenMcFeely']\"]   \n162                               [\"['JamesCameron']\"]   \n111                                [\"['RianJohnson']\"]   \n258                              [\"['JeffNathanson']\"]   \n345                [\"['ChrisWeitz',\", \"'TonyGilroy']\"]   \n109               [\"['ChrisTerrio',\", \"'J.J.Abrams']\"]   \n\n    Release Date (Theaters) Release Date (Streaming)  Box Office (Gross USA)  \\\n71          Apr26 2019 wide               Jul30 2019             858000000.0   \n34          May27 2022 wide               Aug22 2022             718000000.0   \n440         Sep16 2022 wide               Sep16 2022             711000000.0   \n161         Feb16 2018 wide                May2 2018             700000000.0   \n141         Apr27 2018 wide               Aug14 2018             678000000.0   \n162         Dec19 1997 wide                Jan8 2002             658000000.0   \n111         Dec15 2017 wide               Mar27 2018             620000000.0   \n258         Jul19 2019 wide               Aug27 2019             543000000.0   \n345         Dec16 2016 wide                Apr4 2017             533000000.0   \n109         Dec20 2019 wide               Dec20 2019             515000000.0   \n\n    Runtime                       Distributor  \\\n71     3h1m                        WaltDisney   \n34    2h11m                 ParamountPictures   \n440   1h38m                      MiramaxFilms   \n161   2h14m                        WaltDisney   \n141   2h29m                        WaltDisney   \n162   3h15m  20thCenturyFox ParamountPictures   \n111   2h32m                        WaltDisney   \n258   1h58m                        WaltDisney   \n345   2h14m                        WaltDisney   \n109   2h22m                        WaltDisney   \n\n                                             Sound Mix  \n71                    DolbyAtmos DTS SDDS DolbyDigital  \n34                                          DolbyAtmos  \n440                                                NaN  \n161                                     DTS DolbyAtmos  \n141                        DolbyAtmos DolbyDigital DTS  \n162  DolbyDigital DolbySR DolbyStereo Surround DTS ...  \n111                        DolbyDigital DolbyAtmos DTS  \n258                        DTS DolbyDigital DolbyAtmos  \n345                            DolbyDigital DolbyAtmos  \n109                        DolbyAtmos DolbyDigital DTS  ",
      "text/html": "<div>\n<style scoped>\n    .dataframe tbody tr th:only-of-type {\n        vertical-align: middle;\n    }\n\n    .dataframe tbody tr th {\n        vertical-align: top;\n    }\n\n    .dataframe thead th {\n        text-align: right;\n    }\n</style>\n<table border=\"1\" class=\"dataframe\">\n  <thead>\n    <tr style=\"text-align: right;\">\n      <th></th>\n      <th>title</th>\n      <th>tomatoescore</th>\n      <th>audiencescore</th>\n      <th>Rating</th>\n      <th>Genre</th>\n      <th>Original Language</th>\n      <th>Director</th>\n      <th>Producer</th>\n      <th>Writer</th>\n      <th>Release Date (Theaters)</th>\n      <th>Release Date (Streaming)</th>\n      <th>Box Office (Gross USA)</th>\n      <th>Runtime</th>\n      <th>Distributor</th>\n      <th>Sound Mix</th>\n    </tr>\n  </thead>\n  <tbody>\n    <tr>\n      <th>71</th>\n      <td>Avengers: Endgame</td>\n      <td>94.0</td>\n      <td>90.0</td>\n      <td>PG-13(SequencesofSci-FiViolence|Action|SomeLan...</td>\n      <td>[\"['Action',\", \"'Adventure',\", \"'Fantasy',\", \"...</td>\n      <td>English</td>\n      <td>[\"['AnthonyRusso',\", \"'JoeRusso']\"]</td>\n      <td>[\"['KevinFeige']\"]</td>\n      <td>[\"['ChristopherMarkus',\", \"'StephenMcFeely']\"]</td>\n      <td>Apr26 2019 wide</td>\n      <td>Jul30 2019</td>\n      <td>858000000.0</td>\n      <td>3h1m</td>\n      <td>WaltDisney</td>\n      <td>DolbyAtmos DTS SDDS DolbyDigital</td>\n    </tr>\n    <tr>\n      <th>34</th>\n      <td>Top Gun: Maverick</td>\n      <td>96.0</td>\n      <td>99.0</td>\n      <td>PG-13(SomeStrongLanguage|SequencesofIntenseAct...</td>\n      <td>[\"['Action',\", \"'Adventure']\"]</td>\n      <td>English</td>\n      <td>[\"['JosephKosinski']\"]</td>\n      <td>[\"['JerryBruckheimer',\", \"'TomCruise',\", \"'Dav...</td>\n      <td>[\"['EhrenKruger',\", \"'EricWarrenSinger',\", \"'C...</td>\n      <td>May27 2022 wide</td>\n      <td>Aug22 2022</td>\n      <td>718000000.0</td>\n      <td>2h11m</td>\n      <td>ParamountPictures</td>\n      <td>DolbyAtmos</td>\n    </tr>\n    <tr>\n      <th>440</th>\n      <td>Confess, Fletch</td>\n      <td>86.0</td>\n      <td>75.0</td>\n      <td>R(SomeSexualContent|Language|DrugUse)</td>\n      <td>[\"['Comedy',\", \"'Mystery&amp;thriller']\"]</td>\n      <td>English</td>\n      <td>[\"['GregMottola']\"]</td>\n      <td>[\"['BillBlock',\", \"'JonHamm',\", \"'ConnieTavel']\"]</td>\n      <td>[\"['GregMottola',\", \"'ZevBorow']\"]</td>\n      <td>Sep16 2022 wide</td>\n      <td>Sep16 2022</td>\n      <td>711000000.0</td>\n      <td>1h38m</td>\n      <td>MiramaxFilms</td>\n      <td>NaN</td>\n    </tr>\n    <tr>\n      <th>161</th>\n      <td>Black Panther</td>\n      <td>96.0</td>\n      <td>79.0</td>\n      <td>PG-13(SequencesofActionViolence|ABriefRudeGest...</td>\n      <td>[\"['Action',\", \"'Adventure',\", \"'Fantasy']\"]</td>\n      <td>English</td>\n      <td>[\"['RyanCoogler']\"]</td>\n      <td>[\"['KevinFeige']\"]</td>\n      <td>[\"['RyanCoogler',\", \"'JoeRobertCole']\"]</td>\n      <td>Feb16 2018 wide</td>\n      <td>May2 2018</td>\n      <td>700000000.0</td>\n      <td>2h14m</td>\n      <td>WaltDisney</td>\n      <td>DTS DolbyAtmos</td>\n    </tr>\n    <tr>\n      <th>141</th>\n      <td>Avengers: Infinity War</td>\n      <td>85.0</td>\n      <td>92.0</td>\n      <td>PG-13(IntenseSci-FiViolence|ActionThroughout|L...</td>\n      <td>[\"['Action',\", \"'Adventure',\", \"'Fantasy',\", \"...</td>\n      <td>English</td>\n      <td>[\"['AnthonyRusso',\", \"'JoeRusso']\"]</td>\n      <td>[\"['KevinFeige']\"]</td>\n      <td>[\"['ChristopherMarkus',\", \"'StephenMcFeely']\"]</td>\n      <td>Apr27 2018 wide</td>\n      <td>Aug14 2018</td>\n      <td>678000000.0</td>\n      <td>2h29m</td>\n      <td>WaltDisney</td>\n      <td>DolbyAtmos DolbyDigital DTS</td>\n    </tr>\n    <tr>\n      <th>162</th>\n      <td>Titanic</td>\n      <td>88.0</td>\n      <td>69.0</td>\n      <td>PG-13(DisasterRelatedPeril|BriefLanguage|Nudit...</td>\n      <td>[\"['History',\", \"'Drama',\", \"'Romance']\"]</td>\n      <td>English</td>\n      <td>[\"['JamesCameron']\"]</td>\n      <td>[\"['JamesCameron',\", \"'JonLandau']\"]</td>\n      <td>[\"['JamesCameron']\"]</td>\n      <td>Dec19 1997 wide</td>\n      <td>Jan8 2002</td>\n      <td>658000000.0</td>\n      <td>3h15m</td>\n      <td>20thCenturyFox ParamountPictures</td>\n      <td>DolbyDigital DolbySR DolbyStereo Surround DTS ...</td>\n    </tr>\n    <tr>\n      <th>111</th>\n      <td>Star Wars: The Last Jedi</td>\n      <td>91.0</td>\n      <td>42.0</td>\n      <td>PG-13(Violence|SequencesofSci-FiAction)</td>\n      <td>[\"['Sci-fi',\", \"'Adventure',\", \"'Action',\", \"'...</td>\n      <td>English</td>\n      <td>[\"['RianJohnson']\"]</td>\n      <td>[\"['KathleenKennedy',\", \"'RamBergman']\"]</td>\n      <td>[\"['RianJohnson']\"]</td>\n      <td>Dec15 2017 wide</td>\n      <td>Mar27 2018</td>\n      <td>620000000.0</td>\n      <td>2h32m</td>\n      <td>WaltDisney</td>\n      <td>DolbyDigital DolbyAtmos DTS</td>\n    </tr>\n    <tr>\n      <th>258</th>\n      <td>The Lion King</td>\n      <td>52.0</td>\n      <td>88.0</td>\n      <td>PG(SequencesofViolence|Peril|SomeThematicEleme...</td>\n      <td>[\"['Kids&amp;family',\", \"'Adventure',\", \"'Drama']\"]</td>\n      <td>English</td>\n      <td>[\"['JonFavreau']\"]</td>\n      <td>[\"['JonFavreau',\", \"'JeffreySilver',\", \"'Karen...</td>\n      <td>[\"['JeffNathanson']\"]</td>\n      <td>Jul19 2019 wide</td>\n      <td>Aug27 2019</td>\n      <td>543000000.0</td>\n      <td>1h58m</td>\n      <td>WaltDisney</td>\n      <td>DTS DolbyDigital DolbyAtmos</td>\n    </tr>\n    <tr>\n      <th>345</th>\n      <td>Rogue One: A Star Wars Story</td>\n      <td>84.0</td>\n      <td>87.0</td>\n      <td>PG-13(Sci-FiViolenceandAction)</td>\n      <td>[\"['Sci-fi',\", \"'Adventure',\", \"'Action',\", \"'...</td>\n      <td>English</td>\n      <td>[\"['GarethEdwards']\"]</td>\n      <td>[\"['KathleenKennedy',\", \"'AllisonShearmur',\", ...</td>\n      <td>[\"['ChrisWeitz',\", \"'TonyGilroy']\"]</td>\n      <td>Dec16 2016 wide</td>\n      <td>Apr4 2017</td>\n      <td>533000000.0</td>\n      <td>2h14m</td>\n      <td>WaltDisney</td>\n      <td>DolbyDigital DolbyAtmos</td>\n    </tr>\n    <tr>\n      <th>109</th>\n      <td>Star Wars: The Rise of Skywalker</td>\n      <td>52.0</td>\n      <td>86.0</td>\n      <td>PG-13(Sci-FiViolenceandAction)</td>\n      <td>[\"['Sci-fi',\", \"'Adventure',\", \"'Action',\", \"'...</td>\n      <td>English</td>\n      <td>[\"['J.J.Abrams']\"]</td>\n      <td>[\"['KathleenKennedy',\", \"'J.J.Abrams',\", \"'Mic...</td>\n      <td>[\"['ChrisTerrio',\", \"'J.J.Abrams']\"]</td>\n      <td>Dec20 2019 wide</td>\n      <td>Dec20 2019</td>\n      <td>515000000.0</td>\n      <td>2h22m</td>\n      <td>WaltDisney</td>\n      <td>DolbyAtmos DolbyDigital DTS</td>\n    </tr>\n  </tbody>\n</table>\n</div>"
     },
     "execution_count": 38,
     "metadata": {},
     "output_type": "execute_result"
    }
   ],
   "source": [
    "df_expensive.head(10)"
   ],
   "metadata": {
    "collapsed": false,
    "pycharm": {
     "name": "#%%\n"
    }
   }
  },
  {
   "cell_type": "code",
   "execution_count": 39,
   "outputs": [
    {
     "data": {
      "text/plain": "                        Box Office (Gross USA)  audiencescore  tomatoescore\nBox Office (Gross USA)                1.000000       0.131047      0.015339\naudiencescore                         0.131047       1.000000      0.467025\ntomatoescore                          0.015339       0.467025      1.000000",
      "text/html": "<div>\n<style scoped>\n    .dataframe tbody tr th:only-of-type {\n        vertical-align: middle;\n    }\n\n    .dataframe tbody tr th {\n        vertical-align: top;\n    }\n\n    .dataframe thead th {\n        text-align: right;\n    }\n</style>\n<table border=\"1\" class=\"dataframe\">\n  <thead>\n    <tr style=\"text-align: right;\">\n      <th></th>\n      <th>Box Office (Gross USA)</th>\n      <th>audiencescore</th>\n      <th>tomatoescore</th>\n    </tr>\n  </thead>\n  <tbody>\n    <tr>\n      <th>Box Office (Gross USA)</th>\n      <td>1.000000</td>\n      <td>0.131047</td>\n      <td>0.015339</td>\n    </tr>\n    <tr>\n      <th>audiencescore</th>\n      <td>0.131047</td>\n      <td>1.000000</td>\n      <td>0.467025</td>\n    </tr>\n    <tr>\n      <th>tomatoescore</th>\n      <td>0.015339</td>\n      <td>0.467025</td>\n      <td>1.000000</td>\n    </tr>\n  </tbody>\n</table>\n</div>"
     },
     "execution_count": 39,
     "metadata": {},
     "output_type": "execute_result"
    }
   ],
   "source": [
    "# Find correlation between the box office, the audience score and the tomato score\n",
    "df_expensive[['Box Office (Gross USA)', 'audiencescore', 'tomatoescore']].corr()"
   ],
   "metadata": {
    "collapsed": false,
    "pycharm": {
     "name": "#%%\n"
    }
   }
  },
  {
   "cell_type": "code",
   "execution_count": 40,
   "outputs": [
    {
     "data": {
      "text/plain": "<Axes: xlabel='Box Office (Gross USA)', ylabel='audiencescore'>"
     },
     "execution_count": 40,
     "metadata": {},
     "output_type": "execute_result"
    },
    {
     "data": {
      "text/plain": "<Figure size 640x480 with 1 Axes>",
      "image/png": "[encoded data removed]"
     },
     "metadata": {},
     "output_type": "display_data"
    }
   ],
   "source": [
    "# draw a scatter plot between the box office and the audience score\n",
    "import matplotlib\n",
    "df_expensive.plot.scatter(x='Box Office (Gross USA)', y='audiencescore')"
   ],
   "metadata": {
    "collapsed": false,
    "pycharm": {
     "name": "#%%\n"
    }
   }
  }
 ],
 "metadata": {
  "kernelspec": {
   "display_name": "Python 3 (ipykernel)",
   "language": "python",
   "name": "python3"
  },
  "language_info": {
   "codemirror_mode": {
    "name": "ipython",
    "version": 3
   },
   "file_extension": ".py",
   "mimetype": "text/x-python",
   "name": "python",
   "nbconvert_exporter": "python",
   "pygments_lexer": "ipython3",
   "version": "3.10.10"
  }
 },
 "nbformat": 4,
 "nbformat_minor": 1
}