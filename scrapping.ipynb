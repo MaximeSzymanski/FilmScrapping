{
 "cells": [
  {
   "cell_type": "code",
   "execution_count": 1,
   "outputs": [],
   "source": [
    "from selenium.common import NoSuchElementException\n",
    "from selenium import webdriver\n",
    "import time\n",
    "import pandas as pd\n",
    "import requests\n",
    "from bs4 import BeautifulSoup\n",
    "from selenium.webdriver.common.by import By\n",
    "\n",
    "\n",
    "driver = webdriver.Chrome()\n",
    "\n",
    "# Charger la page Web\n",
    "driver.get(\"https://www.rottentomatoes.com/browse/movies_at_home/sort:popular?page=5\")\n",
    "# Vérifier si le bouton \"Reject All\" existe\n",
    "try:\n",
    "\n",
    "    reject_all_button =driver.find_element(By.ID,\"onetrust-reject-all-handler\")\n",
    "    # Si le bouton existe, cliquer dessus\n",
    "    reject_all_button.click()\n",
    "except NoSuchElementException:\n",
    "    # Si le bouton n'existe pas, ne rien faire\n",
    "    pass\n",
    "for i in range(20):\n",
    "    try:\n",
    "\n",
    "        load_more_button = driver.find_element(By.XPATH, \"//button[@data-discoverygridsmanager='btnLoadMore']\")\n",
    "        # Si le bouton existe, cliquer dessus\n",
    "        load_more_button.click()\n",
    "    except NoSuchElementException:\n",
    "    # Si le bouton n'existe pas, ne rien faire\n",
    "        print('The button does not exist')\n",
    "        pass\n",
    "    time.sleep(1) # Pause de 1 seconde\n",
    "\n",
    "# Extraire le contenu HTML de la page Web mise à jour\n",
    "html = driver.page_source\n",
    "\n",
    "# Fermer la fenêtre du navigateur\n",
    "driver.quit()"
   ],
   "metadata": {
    "collapsed": false,
    "pycharm": {
     "name": "#%%\n"
    }
   }
  },
  {
   "cell_type": "code",
   "execution_count": 2,
   "outputs": [],
   "source": [
    "def get_info(soup):\n",
    "    list = soup.find(\"ul\", {\"id\" : \"info\"})\n",
    "    film_details = {}\n",
    "    title = soup.find(\"h1\", {\"data-qa\" : \"score-panel-movie-title\"}).text\n",
    "\n",
    "    film_details[\"title\"] = title\n",
    "\n",
    "\n",
    "\n",
    "    for child in list.children:\n",
    "        if child.find(\"b\") != -1 :\n",
    "            category = child.find(\"b\").text\n",
    "            category = category.replace(':','')\n",
    "            value = child.find(\"span\").text\n",
    "            value = value.strip().replace('\\n', '').replace(\" \",'').replace(\",\", ' ')\n",
    "            film_details[category] = value\n",
    "    return film_details"
   ],
   "metadata": {
    "collapsed": false,
    "pycharm": {
     "name": "#%%\n"
    }
   }
  },
  {
   "cell_type": "code",
   "execution_count": 3,
   "outputs": [],
   "source": [
    "soup = BeautifulSoup(html)"
   ],
   "metadata": {
    "collapsed": false,
    "pycharm": {
     "name": "#%%\n"
    }
   }
  },
  {
   "cell_type": "code",
   "execution_count": 4,
   "outputs": [],
   "source": [
    "film_divs= soup.findAll(class_='js-tile-link')"
   ],
   "metadata": {
    "collapsed": false,
    "pycharm": {
     "name": "#%%\n"
    }
   }
  },
  {
   "cell_type": "code",
   "execution_count": 5,
   "outputs": [],
   "source": [
    "films_link = []\n",
    "for film in film_divs:\n",
    "    film_link = {}\n",
    "    link_div = (film.find('a', {\"data-track\" : \"scores\"}))\n",
    "    if link_div is not None:\n",
    "        audiencescore = link_div.find(\"score-pairs\")[\"audiencescore\"]\n",
    "        tomatoescore = link_div.find(\"score-pairs\")[\"criticsscore\"]\n",
    "\n",
    "        film_link[\"link\"] = link_div['href']\n",
    "        film_link[\"audiencescore\"] = audiencescore\n",
    "        film_link[\"tomatoescore\"]  = tomatoescore\n",
    "        films_link.append(film_link)"
   ],
   "metadata": {
    "collapsed": false,
    "pycharm": {
     "name": "#%%\n"
    }
   }
  },
  {
   "cell_type": "code",
   "execution_count": null,
   "outputs": [],
   "source": [
    "base_url = 'https://www.rottentomatoes.com'\n",
    "film_details_list = []\n",
    "number_film = 0\n",
    "for film_name in films_link:\n",
    "    print(number_film, \"/\", len(films_link))\n",
    "\n",
    "    url = base_url + film_name[\"link\"]\n",
    "    print(url)\n",
    "    response = requests.get(url)\n",
    "    if response.ok:\n",
    "        soup = BeautifulSoup(response.content)\n",
    "        infos = get_info(soup)\n",
    "        infos[\"audiencescore\"] = film_name[\"audiencescore\"]\n",
    "        infos[\"tomatoescore\"] = film_name[\"tomatoescore\"]\n",
    "        film_details_list.append(infos)\n",
    "    number_film += 1\n"
   ],
   "metadata": {
    "collapsed": false,
    "pycharm": {
     "name": "#%%\n",
     "is_executing": true
    }
   }
  },
  {
   "cell_type": "code",
   "execution_count": 7,
   "outputs": [],
   "source": [
    "df = pd.DataFrame(data=film_details_list)\n",
    "df = df.drop([\"View the collection\", \"Aspect Ratio\"], axis=1)"
   ],
   "metadata": {
    "collapsed": false,
    "pycharm": {
     "name": "#%%\n"
    }
   }
  },
  {
   "cell_type": "code",
   "execution_count": 8,
   "outputs": [
    {
     "data": {
      "text/plain": "Index(['title', 'Rating', 'Genre', 'Original Language', 'Director', 'Producer',\n       'Writer', 'Release Date (Theaters)', 'Release Date (Streaming)',\n       'Box Office (Gross USA)', 'Runtime', 'Distributor', 'Sound Mix',\n       'audiencescore', 'tomatoescore'],\n      dtype='object')"
     },
     "execution_count": 8,
     "metadata": {},
     "output_type": "execute_result"
    }
   ],
   "source": [
    "df.columns"
   ],
   "metadata": {
    "collapsed": false,
    "pycharm": {
     "name": "#%%\n"
    }
   }
  },
  {
   "cell_type": "code",
   "execution_count": 9,
   "outputs": [],
   "source": [
    "df = df[['title', 'tomatoescore','audiencescore','Rating', 'Genre', 'Original Language', 'Director', 'Producer',\n",
    "       'Writer', 'Release Date (Theaters)', 'Release Date (Streaming)',\n",
    "       'Box Office (Gross USA)', 'Runtime', 'Distributor', 'Sound Mix']]"
   ],
   "metadata": {
    "collapsed": false,
    "pycharm": {
     "name": "#%%\n"
    }
   }
  },
  {
   "cell_type": "code",
   "execution_count": 10,
   "outputs": [],
   "source": [
    "df = df.fillna('')"
   ],
   "metadata": {
    "collapsed": false,
    "pycharm": {
     "name": "#%%\n"
    }
   }
  },
  {
   "cell_type": "code",
   "execution_count": 11,
   "outputs": [],
   "source": [
    "df['Genre'] = df['Genre'].apply(lambda x: x.split())\n",
    "df['Director'] = df['Director'].apply(lambda x: x.split())\n",
    "df['Producer'] = df['Producer'].apply(lambda x: x.split())\n",
    "df['Writer'] = df['Writer'].apply(lambda x: x.split())\n"
   ],
   "metadata": {
    "collapsed": false,
    "pycharm": {
     "name": "#%%\n"
    }
   }
  },
  {
   "cell_type": "code",
   "execution_count": 14,
   "outputs": [
    {
     "data": {
      "text/plain": "                                                title tomatoescore  \\\n0                   Everything Everywhere All at Once           94   \n1                                        Cocaine Bear           68   \n2                                           The Whale           64   \n3                                    Boston Strangler           66   \n4                             Dragged Across Concrete           76   \n..                                                ...          ...   \n470  Pirates of the Caribbean: Dead Men Tell No Tales           30   \n471                                             Carol           94   \n472                                  The Tomorrow War           52   \n473                                 It Comes at Night           88   \n474                                          The Hunt           57   \n\n    audiencescore                                             Rating  \\\n0              86            R(SexualMaterial|Language|SomeViolence)   \n1              71  R(LanguageThroughout|DrugContent|BloodyViolenc...   \n2              91              R(SexualContent|Language|SomeDrugUse)   \n3              76                     R(Language|SomeViolentContent)   \n4              69  R(Language|GrislyImages|SomeSexuality/Nudity|S...   \n..            ...                                                ...   \n470            60     PG-13(SomeSuggestiveContent|AdventureViolence)   \n471            74           R(Nudity|BriefLanguage|SceneofSexuality)   \n472            76  PG-13(Language|IntenseSci-FiViolence|Action|So...   \n473            44              R(Language|DisturbingImages|Violence)   \n474            66         R(StrongBloodyViolence|LanguageThroughout)   \n\n                                    Genre Original Language  \\\n0    [Comedy, Adventure, Sci-fi, Fantasy]           English   \n1              [Mystery&thriller, Comedy]           English   \n2                                 [Drama]           English   \n3                          [Crime, Drama]           English   \n4                          [Crime, Drama]           English   \n..                                    ...               ...   \n470          [Adventure, Action, Fantasy]           English   \n471              [Romance, Drama, Lgbtq+]           English   \n472           [Sci-fi, Action, Adventure]           English   \n473            [Horror, Mystery&thriller]           English   \n474    [Mystery&thriller, Comedy, Action]           English   \n\n                            Director  \\\n0         [DanKwan, DanielScheinert]   \n1                   [ElizabethBanks]   \n2                  [DarrenAronofsky]   \n3                       [MattRuskin]   \n4                    [S.CraigZahler]   \n..                               ...   \n470  [JoachimRønning, EspenSandberg]   \n471                     [ToddHaynes]   \n472                     [ChrisMcKay]   \n473               [TreyEdwardShults]   \n474                     [CraigZobel]   \n\n                                              Producer  \\\n0    [JoeRusso, AnthonyRusso, MikeLarocca, DanKwan,...   \n1    [PhilLord, ChrisMiller, ElizabethBanks, MaxHan...   \n2                                                   []   \n3    [TomAckerley, JoseyMcNamara, MichaelA.Pruss, R...   \n4    [KeithKjarval, DallasSonnier, TylerJackson, Ja...   \n..                                                 ...   \n470                                 [JerryBruckheimer]   \n471  [ElizabethKarlsen, StephenWoolley, ChristineVa...   \n472  [DavidEllison, DanaGoldberg, DonGranger, Jules...   \n473                           [DavidKaplan, AndreaRoa]   \n474                         [JasonBlum, DamonLindelof]   \n\n                         Writer Release Date (Theaters)  \\\n0    [DanKwan, DanielScheinert]          Apr8 2022 wide   \n1                 [JimmyWarden]         Feb24 2023 wide   \n2              [SamuelD.Hunter]         Dec21 2022 wide   \n3                  [MattRuskin]                           \n4               [S.CraigZahler]      Mar22 2019 limited   \n..                          ...                     ...   \n470             [JeffNathanson]         May26 2017 wide   \n471               [PhyllisNagy]          Jan8 2016 wide   \n472                  [ZachDean]                           \n473          [TreyEdwardShults]          Jun9 2017 wide   \n474   [NickCuse, DamonLindelof]     Mar13 2020 original   \n\n    Release Date (Streaming) Box Office (Gross USA) Runtime  \\\n0                  Jun7 2022                 $75.7M   2h12m   \n1                 Mar21 2023                 $58.6M   1h35m   \n2                 Feb21 2023                 $17.2M   1h57m   \n3                 Mar17 2023                          1h52m   \n4                 Mar22 2019                          2h39m   \n..                       ...                    ...     ...   \n470                Oct3 2017                $172.5M    2h3m   \n471               Mar15 2016                 $12.7M   1h58m   \n472                Jul2 2021                          2h18m   \n473               Sep12 2017                 $14.0M   1h37m   \n474               Mar20 2020                  $5.3M   1h30m   \n\n                            Distributor                        Sound Mix  \n0                                   A24                     DolbyDigital  \n1                     UniversalPictures                                   \n2                                   A24                     DolbyDigital  \n3                                  Hulu                     DolbyDigital  \n4    SummitEntertainment LionsgateFilms                     DolbyDigital  \n..                                  ...                              ...  \n470                          WaltDisney  DolbyAtmos DolbyDigital Datasat  \n471                        WeinsteinCo.                                   \n472                                                                       \n473                                 A24                                   \n474                   UniversalPictures                     DolbyDigital  \n\n[475 rows x 15 columns]",
      "text/html": "<div>\n<style scoped>\n    .dataframe tbody tr th:only-of-type {\n        vertical-align: middle;\n    }\n\n    .dataframe tbody tr th {\n        vertical-align: top;\n    }\n\n    .dataframe thead th {\n        text-align: right;\n    }\n</style>\n<table border=\"1\" class=\"dataframe\">\n  <thead>\n    <tr style=\"text-align: right;\">\n      <th></th>\n      <th>title</th>\n      <th>tomatoescore</th>\n      <th>audiencescore</th>\n      <th>Rating</th>\n      <th>Genre</th>\n      <th>Original Language</th>\n      <th>Director</th>\n      <th>Producer</th>\n      <th>Writer</th>\n      <th>Release Date (Theaters)</th>\n      <th>Release Date (Streaming)</th>\n      <th>Box Office (Gross USA)</th>\n      <th>Runtime</th>\n      <th>Distributor</th>\n      <th>Sound Mix</th>\n    </tr>\n  </thead>\n  <tbody>\n    <tr>\n      <th>0</th>\n      <td>Everything Everywhere All at Once</td>\n      <td>94</td>\n      <td>86</td>\n      <td>R(SexualMaterial|Language|SomeViolence)</td>\n      <td>[Comedy, Adventure, Sci-fi, Fantasy]</td>\n      <td>English</td>\n      <td>[DanKwan, DanielScheinert]</td>\n      <td>[JoeRusso, AnthonyRusso, MikeLarocca, DanKwan,...</td>\n      <td>[DanKwan, DanielScheinert]</td>\n      <td>Apr8 2022 wide</td>\n      <td>Jun7 2022</td>\n      <td>$75.7M</td>\n      <td>2h12m</td>\n      <td>A24</td>\n      <td>DolbyDigital</td>\n    </tr>\n    <tr>\n      <th>1</th>\n      <td>Cocaine Bear</td>\n      <td>68</td>\n      <td>71</td>\n      <td>R(LanguageThroughout|DrugContent|BloodyViolenc...</td>\n      <td>[Mystery&amp;thriller, Comedy]</td>\n      <td>English</td>\n      <td>[ElizabethBanks]</td>\n      <td>[PhilLord, ChrisMiller, ElizabethBanks, MaxHan...</td>\n      <td>[JimmyWarden]</td>\n      <td>Feb24 2023 wide</td>\n      <td>Mar21 2023</td>\n      <td>$58.6M</td>\n      <td>1h35m</td>\n      <td>UniversalPictures</td>\n      <td></td>\n    </tr>\n    <tr>\n      <th>2</th>\n      <td>The Whale</td>\n      <td>64</td>\n      <td>91</td>\n      <td>R(SexualContent|Language|SomeDrugUse)</td>\n      <td>[Drama]</td>\n      <td>English</td>\n      <td>[DarrenAronofsky]</td>\n      <td>[]</td>\n      <td>[SamuelD.Hunter]</td>\n      <td>Dec21 2022 wide</td>\n      <td>Feb21 2023</td>\n      <td>$17.2M</td>\n      <td>1h57m</td>\n      <td>A24</td>\n      <td>DolbyDigital</td>\n    </tr>\n    <tr>\n      <th>3</th>\n      <td>Boston Strangler</td>\n      <td>66</td>\n      <td>76</td>\n      <td>R(Language|SomeViolentContent)</td>\n      <td>[Crime, Drama]</td>\n      <td>English</td>\n      <td>[MattRuskin]</td>\n      <td>[TomAckerley, JoseyMcNamara, MichaelA.Pruss, R...</td>\n      <td>[MattRuskin]</td>\n      <td></td>\n      <td>Mar17 2023</td>\n      <td></td>\n      <td>1h52m</td>\n      <td>Hulu</td>\n      <td>DolbyDigital</td>\n    </tr>\n    <tr>\n      <th>4</th>\n      <td>Dragged Across Concrete</td>\n      <td>76</td>\n      <td>69</td>\n      <td>R(Language|GrislyImages|SomeSexuality/Nudity|S...</td>\n      <td>[Crime, Drama]</td>\n      <td>English</td>\n      <td>[S.CraigZahler]</td>\n      <td>[KeithKjarval, DallasSonnier, TylerJackson, Ja...</td>\n      <td>[S.CraigZahler]</td>\n      <td>Mar22 2019 limited</td>\n      <td>Mar22 2019</td>\n      <td></td>\n      <td>2h39m</td>\n      <td>SummitEntertainment LionsgateFilms</td>\n      <td>DolbyDigital</td>\n    </tr>\n    <tr>\n      <th>...</th>\n      <td>...</td>\n      <td>...</td>\n      <td>...</td>\n      <td>...</td>\n      <td>...</td>\n      <td>...</td>\n      <td>...</td>\n      <td>...</td>\n      <td>...</td>\n      <td>...</td>\n      <td>...</td>\n      <td>...</td>\n      <td>...</td>\n      <td>...</td>\n      <td>...</td>\n    </tr>\n    <tr>\n      <th>470</th>\n      <td>Pirates of the Caribbean: Dead Men Tell No Tales</td>\n      <td>30</td>\n      <td>60</td>\n      <td>PG-13(SomeSuggestiveContent|AdventureViolence)</td>\n      <td>[Adventure, Action, Fantasy]</td>\n      <td>English</td>\n      <td>[JoachimRønning, EspenSandberg]</td>\n      <td>[JerryBruckheimer]</td>\n      <td>[JeffNathanson]</td>\n      <td>May26 2017 wide</td>\n      <td>Oct3 2017</td>\n      <td>$172.5M</td>\n      <td>2h3m</td>\n      <td>WaltDisney</td>\n      <td>DolbyAtmos DolbyDigital Datasat</td>\n    </tr>\n    <tr>\n      <th>471</th>\n      <td>Carol</td>\n      <td>94</td>\n      <td>74</td>\n      <td>R(Nudity|BriefLanguage|SceneofSexuality)</td>\n      <td>[Romance, Drama, Lgbtq+]</td>\n      <td>English</td>\n      <td>[ToddHaynes]</td>\n      <td>[ElizabethKarlsen, StephenWoolley, ChristineVa...</td>\n      <td>[PhyllisNagy]</td>\n      <td>Jan8 2016 wide</td>\n      <td>Mar15 2016</td>\n      <td>$12.7M</td>\n      <td>1h58m</td>\n      <td>WeinsteinCo.</td>\n      <td></td>\n    </tr>\n    <tr>\n      <th>472</th>\n      <td>The Tomorrow War</td>\n      <td>52</td>\n      <td>76</td>\n      <td>PG-13(Language|IntenseSci-FiViolence|Action|So...</td>\n      <td>[Sci-fi, Action, Adventure]</td>\n      <td>English</td>\n      <td>[ChrisMcKay]</td>\n      <td>[DavidEllison, DanaGoldberg, DonGranger, Jules...</td>\n      <td>[ZachDean]</td>\n      <td></td>\n      <td>Jul2 2021</td>\n      <td></td>\n      <td>2h18m</td>\n      <td></td>\n      <td></td>\n    </tr>\n    <tr>\n      <th>473</th>\n      <td>It Comes at Night</td>\n      <td>88</td>\n      <td>44</td>\n      <td>R(Language|DisturbingImages|Violence)</td>\n      <td>[Horror, Mystery&amp;thriller]</td>\n      <td>English</td>\n      <td>[TreyEdwardShults]</td>\n      <td>[DavidKaplan, AndreaRoa]</td>\n      <td>[TreyEdwardShults]</td>\n      <td>Jun9 2017 wide</td>\n      <td>Sep12 2017</td>\n      <td>$14.0M</td>\n      <td>1h37m</td>\n      <td>A24</td>\n      <td></td>\n    </tr>\n    <tr>\n      <th>474</th>\n      <td>The Hunt</td>\n      <td>57</td>\n      <td>66</td>\n      <td>R(StrongBloodyViolence|LanguageThroughout)</td>\n      <td>[Mystery&amp;thriller, Comedy, Action]</td>\n      <td>English</td>\n      <td>[CraigZobel]</td>\n      <td>[JasonBlum, DamonLindelof]</td>\n      <td>[NickCuse, DamonLindelof]</td>\n      <td>Mar13 2020 original</td>\n      <td>Mar20 2020</td>\n      <td>$5.3M</td>\n      <td>1h30m</td>\n      <td>UniversalPictures</td>\n      <td>DolbyDigital</td>\n    </tr>\n  </tbody>\n</table>\n<p>475 rows × 15 columns</p>\n</div>"
     },
     "execution_count": 14,
     "metadata": {},
     "output_type": "execute_result"
    }
   ],
   "source": [
    "df"
   ],
   "metadata": {
    "collapsed": false,
    "pycharm": {
     "name": "#%%\n"
    }
   }
  },
  {
   "cell_type": "code",
   "execution_count": 15,
   "outputs": [],
   "source": [
    "df.to_csv(\"FilmCSV.csv\")"
   ],
   "metadata": {
    "collapsed": false,
    "pycharm": {
     "name": "#%%\n"
    }
   }
  },
  {
   "cell_type": "code",
   "execution_count": null,
   "outputs": [],
   "source": [],
   "metadata": {
    "collapsed": false,
    "pycharm": {
     "name": "#%%\n"
    }
   }
  }
 ],
 "metadata": {
  "kernelspec": {
   "display_name": "Python 3",
   "language": "python",
   "name": "python3"
  },
  "language_info": {
   "codemirror_mode": {
    "name": "ipython",
    "version": 2
   },
   "file_extension": ".py",
   "mimetype": "text/x-python",
   "name": "python",
   "nbconvert_exporter": "python",
   "pygments_lexer": "ipython2",
   "version": "2.7.6"
  }
 },
 "nbformat": 4,
 "nbformat_minor": 0
}